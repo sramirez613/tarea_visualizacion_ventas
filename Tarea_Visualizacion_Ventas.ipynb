{
  "cells": [
    {
      "cell_type": "markdown",
      "id": "10a492dc",
      "metadata": {
        "id": "10a492dc"
      },
      "source": [
        "# Tarea: Análisis Visual de Ventas de Tienda de Conveniencia\n",
        "\n",
        "### **Equipo:** Sebastián Ramirez Montecinos\n",
        "### **Grupo:** 1\n",
        "### **Curso:** Visualización de Datos en Python\n",
        "\n",
        "> Este trabajo presenta un análisis completo de un conjunto de datos de ventas usando técnicas de visualización de datos para descubrir patrones y apoyar la toma de decisiones estratégicas."
      ]
    },
    {
      "cell_type": "markdown",
      "id": "bb21f4eb",
      "metadata": {
        "id": "bb21f4eb"
      },
      "source": [
        "# Análisis de Ventas para Tienda de Conveniencia\n",
        "# =============================================\n",
        "# 1. Selección de Variables Clave y Carga de Datos\n",
        "# =============================================\n",
        "\n",
        "Este análisis tiene como objetivo identificar las variables más relevantes para comprender las ventas, comportamiento del cliente y rentabilidad de la tienda.\n",
        "\n"
      ]
    },
    {
      "cell_type": "code",
      "execution_count": 1,
      "id": "01c1acbf",
      "metadata": {
        "id": "01c1acbf"
      },
      "outputs": [
        {
          "data": {
            "text/html": [
              "<div>\n",
              "<style scoped>\n",
              "    .dataframe tbody tr th:only-of-type {\n",
              "        vertical-align: middle;\n",
              "    }\n",
              "\n",
              "    .dataframe tbody tr th {\n",
              "        vertical-align: top;\n",
              "    }\n",
              "\n",
              "    .dataframe thead th {\n",
              "        text-align: right;\n",
              "    }\n",
              "</style>\n",
              "<table border=\"1\" class=\"dataframe\">\n",
              "  <thead>\n",
              "    <tr style=\"text-align: right;\">\n",
              "      <th></th>\n",
              "      <th>Branch</th>\n",
              "      <th>City</th>\n",
              "      <th>Customer type</th>\n",
              "      <th>Gender</th>\n",
              "      <th>Product line</th>\n",
              "      <th>Unit price</th>\n",
              "      <th>Quantity</th>\n",
              "      <th>Total</th>\n",
              "      <th>Date</th>\n",
              "      <th>Time</th>\n",
              "      <th>Payment</th>\n",
              "      <th>gross income</th>\n",
              "      <th>Rating</th>\n",
              "    </tr>\n",
              "  </thead>\n",
              "  <tbody>\n",
              "    <tr>\n",
              "      <th>count</th>\n",
              "      <td>1000</td>\n",
              "      <td>1000</td>\n",
              "      <td>1000</td>\n",
              "      <td>1000</td>\n",
              "      <td>1000</td>\n",
              "      <td>1000.000000</td>\n",
              "      <td>1000.000000</td>\n",
              "      <td>1000.000000</td>\n",
              "      <td>1000</td>\n",
              "      <td>1000</td>\n",
              "      <td>1000</td>\n",
              "      <td>1000.000000</td>\n",
              "      <td>1000.00000</td>\n",
              "    </tr>\n",
              "    <tr>\n",
              "      <th>unique</th>\n",
              "      <td>3</td>\n",
              "      <td>3</td>\n",
              "      <td>2</td>\n",
              "      <td>2</td>\n",
              "      <td>6</td>\n",
              "      <td>NaN</td>\n",
              "      <td>NaN</td>\n",
              "      <td>NaN</td>\n",
              "      <td>89</td>\n",
              "      <td>506</td>\n",
              "      <td>3</td>\n",
              "      <td>NaN</td>\n",
              "      <td>NaN</td>\n",
              "    </tr>\n",
              "    <tr>\n",
              "      <th>top</th>\n",
              "      <td>A</td>\n",
              "      <td>Yangon</td>\n",
              "      <td>Member</td>\n",
              "      <td>Female</td>\n",
              "      <td>Fashion accessories</td>\n",
              "      <td>NaN</td>\n",
              "      <td>NaN</td>\n",
              "      <td>NaN</td>\n",
              "      <td>2/7/2019</td>\n",
              "      <td>19:48</td>\n",
              "      <td>Ewallet</td>\n",
              "      <td>NaN</td>\n",
              "      <td>NaN</td>\n",
              "    </tr>\n",
              "    <tr>\n",
              "      <th>freq</th>\n",
              "      <td>340</td>\n",
              "      <td>340</td>\n",
              "      <td>501</td>\n",
              "      <td>501</td>\n",
              "      <td>178</td>\n",
              "      <td>NaN</td>\n",
              "      <td>NaN</td>\n",
              "      <td>NaN</td>\n",
              "      <td>20</td>\n",
              "      <td>7</td>\n",
              "      <td>345</td>\n",
              "      <td>NaN</td>\n",
              "      <td>NaN</td>\n",
              "    </tr>\n",
              "    <tr>\n",
              "      <th>mean</th>\n",
              "      <td>NaN</td>\n",
              "      <td>NaN</td>\n",
              "      <td>NaN</td>\n",
              "      <td>NaN</td>\n",
              "      <td>NaN</td>\n",
              "      <td>55.672130</td>\n",
              "      <td>5.510000</td>\n",
              "      <td>322.966749</td>\n",
              "      <td>NaN</td>\n",
              "      <td>NaN</td>\n",
              "      <td>NaN</td>\n",
              "      <td>15.379369</td>\n",
              "      <td>6.97270</td>\n",
              "    </tr>\n",
              "    <tr>\n",
              "      <th>std</th>\n",
              "      <td>NaN</td>\n",
              "      <td>NaN</td>\n",
              "      <td>NaN</td>\n",
              "      <td>NaN</td>\n",
              "      <td>NaN</td>\n",
              "      <td>26.494628</td>\n",
              "      <td>2.923431</td>\n",
              "      <td>245.885335</td>\n",
              "      <td>NaN</td>\n",
              "      <td>NaN</td>\n",
              "      <td>NaN</td>\n",
              "      <td>11.708825</td>\n",
              "      <td>1.71858</td>\n",
              "    </tr>\n",
              "    <tr>\n",
              "      <th>min</th>\n",
              "      <td>NaN</td>\n",
              "      <td>NaN</td>\n",
              "      <td>NaN</td>\n",
              "      <td>NaN</td>\n",
              "      <td>NaN</td>\n",
              "      <td>10.080000</td>\n",
              "      <td>1.000000</td>\n",
              "      <td>10.678500</td>\n",
              "      <td>NaN</td>\n",
              "      <td>NaN</td>\n",
              "      <td>NaN</td>\n",
              "      <td>0.508500</td>\n",
              "      <td>4.00000</td>\n",
              "    </tr>\n",
              "    <tr>\n",
              "      <th>25%</th>\n",
              "      <td>NaN</td>\n",
              "      <td>NaN</td>\n",
              "      <td>NaN</td>\n",
              "      <td>NaN</td>\n",
              "      <td>NaN</td>\n",
              "      <td>32.875000</td>\n",
              "      <td>3.000000</td>\n",
              "      <td>124.422375</td>\n",
              "      <td>NaN</td>\n",
              "      <td>NaN</td>\n",
              "      <td>NaN</td>\n",
              "      <td>5.924875</td>\n",
              "      <td>5.50000</td>\n",
              "    </tr>\n",
              "    <tr>\n",
              "      <th>50%</th>\n",
              "      <td>NaN</td>\n",
              "      <td>NaN</td>\n",
              "      <td>NaN</td>\n",
              "      <td>NaN</td>\n",
              "      <td>NaN</td>\n",
              "      <td>55.230000</td>\n",
              "      <td>5.000000</td>\n",
              "      <td>253.848000</td>\n",
              "      <td>NaN</td>\n",
              "      <td>NaN</td>\n",
              "      <td>NaN</td>\n",
              "      <td>12.088000</td>\n",
              "      <td>7.00000</td>\n",
              "    </tr>\n",
              "    <tr>\n",
              "      <th>75%</th>\n",
              "      <td>NaN</td>\n",
              "      <td>NaN</td>\n",
              "      <td>NaN</td>\n",
              "      <td>NaN</td>\n",
              "      <td>NaN</td>\n",
              "      <td>77.935000</td>\n",
              "      <td>8.000000</td>\n",
              "      <td>471.350250</td>\n",
              "      <td>NaN</td>\n",
              "      <td>NaN</td>\n",
              "      <td>NaN</td>\n",
              "      <td>22.445250</td>\n",
              "      <td>8.50000</td>\n",
              "    </tr>\n",
              "    <tr>\n",
              "      <th>max</th>\n",
              "      <td>NaN</td>\n",
              "      <td>NaN</td>\n",
              "      <td>NaN</td>\n",
              "      <td>NaN</td>\n",
              "      <td>NaN</td>\n",
              "      <td>99.960000</td>\n",
              "      <td>10.000000</td>\n",
              "      <td>1042.650000</td>\n",
              "      <td>NaN</td>\n",
              "      <td>NaN</td>\n",
              "      <td>NaN</td>\n",
              "      <td>49.650000</td>\n",
              "      <td>10.00000</td>\n",
              "    </tr>\n",
              "  </tbody>\n",
              "</table>\n",
              "</div>"
            ],
            "text/plain": [
              "       Branch    City Customer type  Gender         Product line   Unit price  \\\n",
              "count    1000    1000          1000    1000                 1000  1000.000000   \n",
              "unique      3       3             2       2                    6          NaN   \n",
              "top         A  Yangon        Member  Female  Fashion accessories          NaN   \n",
              "freq      340     340           501     501                  178          NaN   \n",
              "mean      NaN     NaN           NaN     NaN                  NaN    55.672130   \n",
              "std       NaN     NaN           NaN     NaN                  NaN    26.494628   \n",
              "min       NaN     NaN           NaN     NaN                  NaN    10.080000   \n",
              "25%       NaN     NaN           NaN     NaN                  NaN    32.875000   \n",
              "50%       NaN     NaN           NaN     NaN                  NaN    55.230000   \n",
              "75%       NaN     NaN           NaN     NaN                  NaN    77.935000   \n",
              "max       NaN     NaN           NaN     NaN                  NaN    99.960000   \n",
              "\n",
              "           Quantity        Total      Date   Time  Payment  gross income  \\\n",
              "count   1000.000000  1000.000000      1000   1000     1000   1000.000000   \n",
              "unique          NaN          NaN        89    506        3           NaN   \n",
              "top             NaN          NaN  2/7/2019  19:48  Ewallet           NaN   \n",
              "freq            NaN          NaN        20      7      345           NaN   \n",
              "mean       5.510000   322.966749       NaN    NaN      NaN     15.379369   \n",
              "std        2.923431   245.885335       NaN    NaN      NaN     11.708825   \n",
              "min        1.000000    10.678500       NaN    NaN      NaN      0.508500   \n",
              "25%        3.000000   124.422375       NaN    NaN      NaN      5.924875   \n",
              "50%        5.000000   253.848000       NaN    NaN      NaN     12.088000   \n",
              "75%        8.000000   471.350250       NaN    NaN      NaN     22.445250   \n",
              "max       10.000000  1042.650000       NaN    NaN      NaN     49.650000   \n",
              "\n",
              "            Rating  \n",
              "count   1000.00000  \n",
              "unique         NaN  \n",
              "top            NaN  \n",
              "freq           NaN  \n",
              "mean       6.97270  \n",
              "std        1.71858  \n",
              "min        4.00000  \n",
              "25%        5.50000  \n",
              "50%        7.00000  \n",
              "75%        8.50000  \n",
              "max       10.00000  "
            ]
          },
          "execution_count": 1,
          "metadata": {},
          "output_type": "execute_result"
        }
      ],
      "source": [
        "import pandas as pd\n",
        "import matplotlib.pyplot as plt\n",
        "import seaborn as sns\n",
        "import plotly.express as px\n",
        "import streamlit as st\n",
        "\n",
        "# Cargamos el dataset\n",
        "df = pd.read_csv(\"data.csv\")\n",
        "\n",
        "# Vista general de los datos\n",
        "df.head()\n",
        "\n",
        "# Variables seleccionadas y justificación:\n",
        "variables_clave = [\n",
        "    \"Branch\", \"City\", \"Customer type\", \"Gender\", \"Product line\", \"Unit price\",\n",
        "    \"Quantity\", \"Total\", \"Date\", \"Time\", \"Payment\", \"gross income\", \"Rating\"\n",
        "]\n",
        "\n",
        "# Mostrar descripción de las variables clave\n",
        "df[variables_clave].describe(include='all')\n"
      ]
    },
    {
      "cell_type": "markdown",
      "id": "2dac6faf",
      "metadata": {
        "id": "2dac6faf"
      },
      "source": [
        "# =============================================\n",
        "# 2. Exploración Visual Inicial (Gráficos de análisis)\n",
        "# =============================================\n",
        "\n",
        "A continuación se presentan gráficos básicos que permiten explorar la distribución y relaciones entre variables seleccionadas."
      ]
    },
    {
      "cell_type": "code",
      "execution_count": 2,
      "id": "1befbbe8",
      "metadata": {
        "id": "1befbbe8"
      },
      "outputs": [
        {
          "data": {
            "application/vnd.plotly.v1+json": {
              "config": {
                "plotlyServerURL": "https://plot.ly"
              },
              "data": [
                {
                  "hovertemplate": "Date=%{x}<br>Total=%{y}<extra></extra>",
                  "legendgroup": "",
                  "line": {
                    "color": "#000001",
                    "dash": "solid"
                  },
                  "marker": {
                    "symbol": "circle"
                  },
                  "mode": "lines",
                  "name": "",
                  "orientation": "v",
                  "showlegend": false,
                  "type": "scatter",
                  "x": [
                    "1/1/2019",
                    "1/10/2019",
                    "1/11/2019",
                    "1/12/2019",
                    "1/13/2019",
                    "1/14/2019",
                    "1/15/2019",
                    "1/16/2019",
                    "1/17/2019",
                    "1/18/2019",
                    "1/19/2019",
                    "1/2/2019",
                    "1/20/2019",
                    "1/21/2019",
                    "1/22/2019",
                    "1/23/2019",
                    "1/24/2019",
                    "1/25/2019",
                    "1/26/2019",
                    "1/27/2019",
                    "1/28/2019",
                    "1/29/2019",
                    "1/3/2019",
                    "1/30/2019",
                    "1/31/2019",
                    "1/4/2019",
                    "1/5/2019",
                    "1/6/2019",
                    "1/7/2019",
                    "1/8/2019",
                    "1/9/2019",
                    "2/1/2019",
                    "2/10/2019",
                    "2/11/2019",
                    "2/12/2019",
                    "2/13/2019",
                    "2/14/2019",
                    "2/15/2019",
                    "2/16/2019",
                    "2/17/2019",
                    "2/18/2019",
                    "2/19/2019",
                    "2/2/2019",
                    "2/20/2019",
                    "2/21/2019",
                    "2/22/2019",
                    "2/23/2019",
                    "2/24/2019",
                    "2/25/2019",
                    "2/26/2019",
                    "2/27/2019",
                    "2/28/2019",
                    "2/3/2019",
                    "2/4/2019",
                    "2/5/2019",
                    "2/6/2019",
                    "2/7/2019",
                    "2/8/2019",
                    "2/9/2019",
                    "3/1/2019",
                    "3/10/2019",
                    "3/11/2019",
                    "3/12/2019",
                    "3/13/2019",
                    "3/14/2019",
                    "3/15/2019",
                    "3/16/2019",
                    "3/17/2019",
                    "3/18/2019",
                    "3/19/2019",
                    "3/2/2019",
                    "3/20/2019",
                    "3/21/2019",
                    "3/22/2019",
                    "3/23/2019",
                    "3/24/2019",
                    "3/25/2019",
                    "3/26/2019",
                    "3/27/2019",
                    "3/28/2019",
                    "3/29/2019",
                    "3/3/2019",
                    "3/30/2019",
                    "3/4/2019",
                    "3/5/2019",
                    "3/6/2019",
                    "3/7/2019",
                    "3/8/2019",
                    "3/9/2019"
                  ],
                  "xaxis": "x",
                  "y": {
                    "bdata": "kxgEVi6JskDO91Pj5dGrQM3MzMzshaBAf2q8dMNAtEDFILByaCajQPdT46U7/a5A9ihcj0I4t0BGtvP9FMGwQPUoXI+CjahAUI2XbvK4pUD0/dR4uTKzQI6XbhIDZp5AzvdT4+WOrEDo+6nxMrCiQBbZzvcTo5pAAAAAADBqt0ByaJHtDBq1QKJFtvNdXLJAMzMzM4NpsUCDwMqh5RuyQBov3SS2h7NAx0s3iSF5q0ASg8DKQTygQBov3SSG/KNAd76fGn9wtEAv3SQGwV6ZQKJFtvNdoatAXI/C9Wg8rEByaJHtfCSmQFK4HoW7rbRAWmQ736+ap0CcxCCwEhmjQFK4HoULiqhASgwCKye+sUB9PzVe+m2nQGZmZmbmMY1AK4cW2S4so0ACK4cWya66QBBYObSIj6NAXrpJDJKztEDufD81HmCXQDm0yHYehLBAnMQgsPIssEDdJAaB1SSlQGIQWDn0xpVA0SLb+Z4Uo0CwcmiRLUeiQOkmMQjsRKVA2/l+ajzHskBiEFg5VNCiQCUGgZVz47ZAqMZLNwlioEAK16Nw7Vu1QO58PzX+DqNAqvHSTUKup0C28/3U2LKmQM/3U+M1PLxA001iEKjcs0CLbOf7yY+pQKwcWmS7lKRAKVyPwnW2qEAv3SQGgSKnQH0/NV4au6xAWDm0yDYfoECq8dJNoi68QK5H4XrU/KZABFYOLfKkqEAtsp3vJ+GeQN0kBoFVM5RACKwcWmRstkDtfD81TqC5QAisHFo0UrVAWmQ73w9WnUCe76fGS9aoQN0kBoEV/q9AZDvfT+0qq0ArhxbZ7sGhQGU7308Nqp5AJQaBlaOtpkD8qfHSzWqhQNv5fmp8bq9A2/l+aiz1skAdWmQ7D4exQC/dJAbhbK5AiUFg5eBWuEAhsHJoMSmoQBBYObQIeZZAs53vp8ZqqEDqJjEIDDK9QA==",
                    "dtype": "f8"
                  },
                  "yaxis": "y"
                }
              ],
              "layout": {
                "legend": {
                  "tracegroupgap": 0
                },
                "template": {
                  "data": {
                    "candlestick": [
                      {
                        "decreasing": {
                          "line": {
                            "color": "#000033"
                          }
                        },
                        "increasing": {
                          "line": {
                            "color": "#000032"
                          }
                        },
                        "type": "candlestick"
                      }
                    ],
                    "contour": [
                      {
                        "colorscale": [
                          [
                            0,
                            "#000011"
                          ],
                          [
                            0.1111111111111111,
                            "#000012"
                          ],
                          [
                            0.2222222222222222,
                            "#000013"
                          ],
                          [
                            0.3333333333333333,
                            "#000014"
                          ],
                          [
                            0.4444444444444444,
                            "#000015"
                          ],
                          [
                            0.5555555555555556,
                            "#000016"
                          ],
                          [
                            0.6666666666666666,
                            "#000017"
                          ],
                          [
                            0.7777777777777778,
                            "#000018"
                          ],
                          [
                            0.8888888888888888,
                            "#000019"
                          ],
                          [
                            1,
                            "#000020"
                          ]
                        ],
                        "type": "contour"
                      }
                    ],
                    "contourcarpet": [
                      {
                        "colorscale": [
                          [
                            0,
                            "#000011"
                          ],
                          [
                            0.1111111111111111,
                            "#000012"
                          ],
                          [
                            0.2222222222222222,
                            "#000013"
                          ],
                          [
                            0.3333333333333333,
                            "#000014"
                          ],
                          [
                            0.4444444444444444,
                            "#000015"
                          ],
                          [
                            0.5555555555555556,
                            "#000016"
                          ],
                          [
                            0.6666666666666666,
                            "#000017"
                          ],
                          [
                            0.7777777777777778,
                            "#000018"
                          ],
                          [
                            0.8888888888888888,
                            "#000019"
                          ],
                          [
                            1,
                            "#000020"
                          ]
                        ],
                        "type": "contourcarpet"
                      }
                    ],
                    "heatmap": [
                      {
                        "colorscale": [
                          [
                            0,
                            "#000011"
                          ],
                          [
                            0.1111111111111111,
                            "#000012"
                          ],
                          [
                            0.2222222222222222,
                            "#000013"
                          ],
                          [
                            0.3333333333333333,
                            "#000014"
                          ],
                          [
                            0.4444444444444444,
                            "#000015"
                          ],
                          [
                            0.5555555555555556,
                            "#000016"
                          ],
                          [
                            0.6666666666666666,
                            "#000017"
                          ],
                          [
                            0.7777777777777778,
                            "#000018"
                          ],
                          [
                            0.8888888888888888,
                            "#000019"
                          ],
                          [
                            1,
                            "#000020"
                          ]
                        ],
                        "type": "heatmap"
                      }
                    ],
                    "histogram2d": [
                      {
                        "colorscale": [
                          [
                            0,
                            "#000011"
                          ],
                          [
                            0.1111111111111111,
                            "#000012"
                          ],
                          [
                            0.2222222222222222,
                            "#000013"
                          ],
                          [
                            0.3333333333333333,
                            "#000014"
                          ],
                          [
                            0.4444444444444444,
                            "#000015"
                          ],
                          [
                            0.5555555555555556,
                            "#000016"
                          ],
                          [
                            0.6666666666666666,
                            "#000017"
                          ],
                          [
                            0.7777777777777778,
                            "#000018"
                          ],
                          [
                            0.8888888888888888,
                            "#000019"
                          ],
                          [
                            1,
                            "#000020"
                          ]
                        ],
                        "type": "histogram2d"
                      }
                    ],
                    "icicle": [
                      {
                        "textfont": {
                          "color": "white"
                        },
                        "type": "icicle"
                      }
                    ],
                    "sankey": [
                      {
                        "textfont": {
                          "color": "#000036"
                        },
                        "type": "sankey"
                      }
                    ],
                    "scatter": [
                      {
                        "marker": {
                          "line": {
                            "width": 0
                          }
                        },
                        "type": "scatter"
                      }
                    ],
                    "table": [
                      {
                        "cells": {
                          "fill": {
                            "color": "#000038"
                          },
                          "font": {
                            "color": "#000037"
                          },
                          "line": {
                            "color": "#000039"
                          }
                        },
                        "header": {
                          "fill": {
                            "color": "#000040"
                          },
                          "font": {
                            "color": "#000036"
                          },
                          "line": {
                            "color": "#000039"
                          }
                        },
                        "type": "table"
                      }
                    ],
                    "waterfall": [
                      {
                        "connector": {
                          "line": {
                            "color": "#000036",
                            "width": 2
                          }
                        },
                        "decreasing": {
                          "marker": {
                            "color": "#000033"
                          }
                        },
                        "increasing": {
                          "marker": {
                            "color": "#000032"
                          }
                        },
                        "totals": {
                          "marker": {
                            "color": "#000034"
                          }
                        },
                        "type": "waterfall"
                      }
                    ]
                  },
                  "layout": {
                    "coloraxis": {
                      "colorscale": [
                        [
                          0,
                          "#000011"
                        ],
                        [
                          0.1111111111111111,
                          "#000012"
                        ],
                        [
                          0.2222222222222222,
                          "#000013"
                        ],
                        [
                          0.3333333333333333,
                          "#000014"
                        ],
                        [
                          0.4444444444444444,
                          "#000015"
                        ],
                        [
                          0.5555555555555556,
                          "#000016"
                        ],
                        [
                          0.6666666666666666,
                          "#000017"
                        ],
                        [
                          0.7777777777777778,
                          "#000018"
                        ],
                        [
                          0.8888888888888888,
                          "#000019"
                        ],
                        [
                          1,
                          "#000020"
                        ]
                      ]
                    },
                    "colorscale": {
                      "diverging": [
                        [
                          0,
                          "#000021"
                        ],
                        [
                          0.1,
                          "#000022"
                        ],
                        [
                          0.2,
                          "#000023"
                        ],
                        [
                          0.3,
                          "#000024"
                        ],
                        [
                          0.4,
                          "#000025"
                        ],
                        [
                          0.5,
                          "#000026"
                        ],
                        [
                          0.6,
                          "#000027"
                        ],
                        [
                          0.7,
                          "#000028"
                        ],
                        [
                          0.8,
                          "#000029"
                        ],
                        [
                          0.9,
                          "#000030"
                        ],
                        [
                          1,
                          "#000031"
                        ]
                      ],
                      "sequential": [
                        [
                          0,
                          "#000011"
                        ],
                        [
                          0.1111111111111111,
                          "#000012"
                        ],
                        [
                          0.2222222222222222,
                          "#000013"
                        ],
                        [
                          0.3333333333333333,
                          "#000014"
                        ],
                        [
                          0.4444444444444444,
                          "#000015"
                        ],
                        [
                          0.5555555555555556,
                          "#000016"
                        ],
                        [
                          0.6666666666666666,
                          "#000017"
                        ],
                        [
                          0.7777777777777778,
                          "#000018"
                        ],
                        [
                          0.8888888888888888,
                          "#000019"
                        ],
                        [
                          1,
                          "#000020"
                        ]
                      ],
                      "sequentialminus": [
                        [
                          0,
                          "#000011"
                        ],
                        [
                          0.1111111111111111,
                          "#000012"
                        ],
                        [
                          0.2222222222222222,
                          "#000013"
                        ],
                        [
                          0.3333333333333333,
                          "#000014"
                        ],
                        [
                          0.4444444444444444,
                          "#000015"
                        ],
                        [
                          0.5555555555555556,
                          "#000016"
                        ],
                        [
                          0.6666666666666666,
                          "#000017"
                        ],
                        [
                          0.7777777777777778,
                          "#000018"
                        ],
                        [
                          0.8888888888888888,
                          "#000019"
                        ],
                        [
                          1,
                          "#000020"
                        ]
                      ]
                    },
                    "colorway": [
                      "#000001",
                      "#000002",
                      "#000003",
                      "#000004",
                      "#000005",
                      "#000006",
                      "#000007",
                      "#000008",
                      "#000009",
                      "#000010"
                    ]
                  }
                },
                "title": {
                  "text": "Evolución de las Ventas Totales"
                },
                "xaxis": {
                  "anchor": "y",
                  "domain": [
                    0,
                    1
                  ],
                  "title": {
                    "text": "Date"
                  }
                },
                "yaxis": {
                  "anchor": "x",
                  "domain": [
                    0,
                    1
                  ],
                  "title": {
                    "text": "Total"
                  }
                }
              }
            }
          },
          "metadata": {},
          "output_type": "display_data"
        }
      ],
      "source": [
        "# 1. Evolución de las Ventas Totales\n",
        "ventas_diarias = df.groupby('Date')['Total'].sum().reset_index()\n",
        "fig = px.line(ventas_diarias, x='Date', y='Total', title='Evolución de las Ventas Totales')\n",
        "fig.show()"
      ]
    },
    {
      "cell_type": "code",
      "execution_count": 3,
      "id": "e7638a95",
      "metadata": {
        "id": "e7638a95"
      },
      "outputs": [
        {
          "data": {
            "application/vnd.plotly.v1+json": {
              "config": {
                "plotlyServerURL": "https://plot.ly"
              },
              "data": [
                {
                  "hovertemplate": "Product line=%{x}<br>Total=%{y}<extra></extra>",
                  "legendgroup": "Food and beverages",
                  "marker": {
                    "color": "#000001",
                    "pattern": {
                      "shape": ""
                    }
                  },
                  "name": "Food and beverages",
                  "orientation": "v",
                  "showlegend": true,
                  "textposition": "auto",
                  "type": "bar",
                  "x": [
                    "Food and beverages"
                  ],
                  "xaxis": "x",
                  "y": {
                    "bdata": "ukkMAhtq60A=",
                    "dtype": "f8"
                  },
                  "yaxis": "y"
                },
                {
                  "hovertemplate": "Product line=%{x}<br>Total=%{y}<extra></extra>",
                  "legendgroup": "Sports and travel",
                  "marker": {
                    "color": "#000002",
                    "pattern": {
                      "shape": ""
                    }
                  },
                  "name": "Sports and travel",
                  "orientation": "v",
                  "showlegend": true,
                  "textposition": "auto",
                  "type": "bar",
                  "x": [
                    "Sports and travel"
                  ],
                  "xaxis": "x",
                  "y": {
                    "bdata": "xSCwclrq6kA=",
                    "dtype": "f8"
                  },
                  "yaxis": "y"
                },
                {
                  "hovertemplate": "Product line=%{x}<br>Total=%{y}<extra></extra>",
                  "legendgroup": "Electronic accessories",
                  "marker": {
                    "color": "#000003",
                    "pattern": {
                      "shape": ""
                    }
                  },
                  "name": "Electronic accessories",
                  "orientation": "v",
                  "showlegend": true,
                  "textposition": "auto",
                  "type": "bar",
                  "x": [
                    "Electronic accessories"
                  ],
                  "xaxis": "x",
                  "y": {
                    "bdata": "ukkMAjGI6kA=",
                    "dtype": "f8"
                  },
                  "yaxis": "y"
                },
                {
                  "hovertemplate": "Product line=%{x}<br>Total=%{y}<extra></extra>",
                  "legendgroup": "Fashion accessories",
                  "marker": {
                    "color": "#000004",
                    "pattern": {
                      "shape": ""
                    }
                  },
                  "name": "Fashion accessories",
                  "orientation": "v",
                  "showlegend": true,
                  "textposition": "auto",
                  "type": "bar",
                  "x": [
                    "Fashion accessories"
                  ],
                  "xaxis": "x",
                  "y": {
                    "bdata": "PQrXozyE6kA=",
                    "dtype": "f8"
                  },
                  "yaxis": "y"
                },
                {
                  "hovertemplate": "Product line=%{x}<br>Total=%{y}<extra></extra>",
                  "legendgroup": "Home and lifestyle",
                  "marker": {
                    "color": "#000005",
                    "pattern": {
                      "shape": ""
                    }
                  },
                  "name": "Home and lifestyle",
                  "orientation": "v",
                  "showlegend": true,
                  "textposition": "auto",
                  "type": "bar",
                  "x": [
                    "Home and lifestyle"
                  ],
                  "xaxis": "x",
                  "y": {
                    "bdata": "qMZLN71M6kA=",
                    "dtype": "f8"
                  },
                  "yaxis": "y"
                },
                {
                  "hovertemplate": "Product line=%{x}<br>Total=%{y}<extra></extra>",
                  "legendgroup": "Health and beauty",
                  "marker": {
                    "color": "#000006",
                    "pattern": {
                      "shape": ""
                    }
                  },
                  "name": "Health and beauty",
                  "orientation": "v",
                  "showlegend": true,
                  "textposition": "auto",
                  "type": "bar",
                  "x": [
                    "Health and beauty"
                  ],
                  "xaxis": "x",
                  "y": {
                    "bdata": "+FPjpTcF6EA=",
                    "dtype": "f8"
                  },
                  "yaxis": "y"
                }
              ],
              "layout": {
                "barmode": "relative",
                "legend": {
                  "title": {
                    "text": "Product line"
                  },
                  "tracegroupgap": 0
                },
                "template": {
                  "data": {
                    "candlestick": [
                      {
                        "decreasing": {
                          "line": {
                            "color": "#000033"
                          }
                        },
                        "increasing": {
                          "line": {
                            "color": "#000032"
                          }
                        },
                        "type": "candlestick"
                      }
                    ],
                    "contour": [
                      {
                        "colorscale": [
                          [
                            0,
                            "#000011"
                          ],
                          [
                            0.1111111111111111,
                            "#000012"
                          ],
                          [
                            0.2222222222222222,
                            "#000013"
                          ],
                          [
                            0.3333333333333333,
                            "#000014"
                          ],
                          [
                            0.4444444444444444,
                            "#000015"
                          ],
                          [
                            0.5555555555555556,
                            "#000016"
                          ],
                          [
                            0.6666666666666666,
                            "#000017"
                          ],
                          [
                            0.7777777777777778,
                            "#000018"
                          ],
                          [
                            0.8888888888888888,
                            "#000019"
                          ],
                          [
                            1,
                            "#000020"
                          ]
                        ],
                        "type": "contour"
                      }
                    ],
                    "contourcarpet": [
                      {
                        "colorscale": [
                          [
                            0,
                            "#000011"
                          ],
                          [
                            0.1111111111111111,
                            "#000012"
                          ],
                          [
                            0.2222222222222222,
                            "#000013"
                          ],
                          [
                            0.3333333333333333,
                            "#000014"
                          ],
                          [
                            0.4444444444444444,
                            "#000015"
                          ],
                          [
                            0.5555555555555556,
                            "#000016"
                          ],
                          [
                            0.6666666666666666,
                            "#000017"
                          ],
                          [
                            0.7777777777777778,
                            "#000018"
                          ],
                          [
                            0.8888888888888888,
                            "#000019"
                          ],
                          [
                            1,
                            "#000020"
                          ]
                        ],
                        "type": "contourcarpet"
                      }
                    ],
                    "heatmap": [
                      {
                        "colorscale": [
                          [
                            0,
                            "#000011"
                          ],
                          [
                            0.1111111111111111,
                            "#000012"
                          ],
                          [
                            0.2222222222222222,
                            "#000013"
                          ],
                          [
                            0.3333333333333333,
                            "#000014"
                          ],
                          [
                            0.4444444444444444,
                            "#000015"
                          ],
                          [
                            0.5555555555555556,
                            "#000016"
                          ],
                          [
                            0.6666666666666666,
                            "#000017"
                          ],
                          [
                            0.7777777777777778,
                            "#000018"
                          ],
                          [
                            0.8888888888888888,
                            "#000019"
                          ],
                          [
                            1,
                            "#000020"
                          ]
                        ],
                        "type": "heatmap"
                      }
                    ],
                    "histogram2d": [
                      {
                        "colorscale": [
                          [
                            0,
                            "#000011"
                          ],
                          [
                            0.1111111111111111,
                            "#000012"
                          ],
                          [
                            0.2222222222222222,
                            "#000013"
                          ],
                          [
                            0.3333333333333333,
                            "#000014"
                          ],
                          [
                            0.4444444444444444,
                            "#000015"
                          ],
                          [
                            0.5555555555555556,
                            "#000016"
                          ],
                          [
                            0.6666666666666666,
                            "#000017"
                          ],
                          [
                            0.7777777777777778,
                            "#000018"
                          ],
                          [
                            0.8888888888888888,
                            "#000019"
                          ],
                          [
                            1,
                            "#000020"
                          ]
                        ],
                        "type": "histogram2d"
                      }
                    ],
                    "icicle": [
                      {
                        "textfont": {
                          "color": "white"
                        },
                        "type": "icicle"
                      }
                    ],
                    "sankey": [
                      {
                        "textfont": {
                          "color": "#000036"
                        },
                        "type": "sankey"
                      }
                    ],
                    "scatter": [
                      {
                        "marker": {
                          "line": {
                            "width": 0
                          }
                        },
                        "type": "scatter"
                      }
                    ],
                    "table": [
                      {
                        "cells": {
                          "fill": {
                            "color": "#000038"
                          },
                          "font": {
                            "color": "#000037"
                          },
                          "line": {
                            "color": "#000039"
                          }
                        },
                        "header": {
                          "fill": {
                            "color": "#000040"
                          },
                          "font": {
                            "color": "#000036"
                          },
                          "line": {
                            "color": "#000039"
                          }
                        },
                        "type": "table"
                      }
                    ],
                    "waterfall": [
                      {
                        "connector": {
                          "line": {
                            "color": "#000036",
                            "width": 2
                          }
                        },
                        "decreasing": {
                          "marker": {
                            "color": "#000033"
                          }
                        },
                        "increasing": {
                          "marker": {
                            "color": "#000032"
                          }
                        },
                        "totals": {
                          "marker": {
                            "color": "#000034"
                          }
                        },
                        "type": "waterfall"
                      }
                    ]
                  },
                  "layout": {
                    "coloraxis": {
                      "colorscale": [
                        [
                          0,
                          "#000011"
                        ],
                        [
                          0.1111111111111111,
                          "#000012"
                        ],
                        [
                          0.2222222222222222,
                          "#000013"
                        ],
                        [
                          0.3333333333333333,
                          "#000014"
                        ],
                        [
                          0.4444444444444444,
                          "#000015"
                        ],
                        [
                          0.5555555555555556,
                          "#000016"
                        ],
                        [
                          0.6666666666666666,
                          "#000017"
                        ],
                        [
                          0.7777777777777778,
                          "#000018"
                        ],
                        [
                          0.8888888888888888,
                          "#000019"
                        ],
                        [
                          1,
                          "#000020"
                        ]
                      ]
                    },
                    "colorscale": {
                      "diverging": [
                        [
                          0,
                          "#000021"
                        ],
                        [
                          0.1,
                          "#000022"
                        ],
                        [
                          0.2,
                          "#000023"
                        ],
                        [
                          0.3,
                          "#000024"
                        ],
                        [
                          0.4,
                          "#000025"
                        ],
                        [
                          0.5,
                          "#000026"
                        ],
                        [
                          0.6,
                          "#000027"
                        ],
                        [
                          0.7,
                          "#000028"
                        ],
                        [
                          0.8,
                          "#000029"
                        ],
                        [
                          0.9,
                          "#000030"
                        ],
                        [
                          1,
                          "#000031"
                        ]
                      ],
                      "sequential": [
                        [
                          0,
                          "#000011"
                        ],
                        [
                          0.1111111111111111,
                          "#000012"
                        ],
                        [
                          0.2222222222222222,
                          "#000013"
                        ],
                        [
                          0.3333333333333333,
                          "#000014"
                        ],
                        [
                          0.4444444444444444,
                          "#000015"
                        ],
                        [
                          0.5555555555555556,
                          "#000016"
                        ],
                        [
                          0.6666666666666666,
                          "#000017"
                        ],
                        [
                          0.7777777777777778,
                          "#000018"
                        ],
                        [
                          0.8888888888888888,
                          "#000019"
                        ],
                        [
                          1,
                          "#000020"
                        ]
                      ],
                      "sequentialminus": [
                        [
                          0,
                          "#000011"
                        ],
                        [
                          0.1111111111111111,
                          "#000012"
                        ],
                        [
                          0.2222222222222222,
                          "#000013"
                        ],
                        [
                          0.3333333333333333,
                          "#000014"
                        ],
                        [
                          0.4444444444444444,
                          "#000015"
                        ],
                        [
                          0.5555555555555556,
                          "#000016"
                        ],
                        [
                          0.6666666666666666,
                          "#000017"
                        ],
                        [
                          0.7777777777777778,
                          "#000018"
                        ],
                        [
                          0.8888888888888888,
                          "#000019"
                        ],
                        [
                          1,
                          "#000020"
                        ]
                      ]
                    },
                    "colorway": [
                      "#000001",
                      "#000002",
                      "#000003",
                      "#000004",
                      "#000005",
                      "#000006",
                      "#000007",
                      "#000008",
                      "#000009",
                      "#000010"
                    ]
                  }
                },
                "title": {
                  "text": "Ingresos por Línea de Producto"
                },
                "xaxis": {
                  "anchor": "y",
                  "categoryarray": [
                    "Food and beverages",
                    "Sports and travel",
                    "Electronic accessories",
                    "Fashion accessories",
                    "Home and lifestyle",
                    "Health and beauty"
                  ],
                  "categoryorder": "array",
                  "domain": [
                    0,
                    1
                  ],
                  "title": {
                    "text": "Product line"
                  }
                },
                "yaxis": {
                  "anchor": "x",
                  "domain": [
                    0,
                    1
                  ],
                  "title": {
                    "text": "Total"
                  }
                }
              }
            }
          },
          "metadata": {},
          "output_type": "display_data"
        }
      ],
      "source": [
        "# 2. Ingresos por Línea de Producto\n",
        "ingresos_producto = df.groupby('Product line')['Total'].sum().sort_values(ascending=False).reset_index()\n",
        "fig = px.bar(ingresos_producto, x='Product line', y='Total', title='Ingresos por Línea de Producto', color='Product line')\n",
        "fig.show()"
      ]
    },
    {
      "cell_type": "code",
      "execution_count": 4,
      "id": "11662845",
      "metadata": {
        "id": "11662845"
      },
      "outputs": [
        {
          "data": {
            "application/vnd.plotly.v1+json": {
              "config": {
                "plotlyServerURL": "https://plot.ly"
              },
              "data": [
                {
                  "bingroup": "x",
                  "hovertemplate": "Rating=%{x}<br>count=%{y}<extra></extra>",
                  "legendgroup": "",
                  "marker": {
                    "color": "#000001",
                    "pattern": {
                      "shape": ""
                    }
                  },
                  "name": "",
                  "nbinsx": 20,
                  "orientation": "v",
                  "showlegend": false,
                  "type": "histogram",
                  "x": {
                    "bdata": "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",
                    "dtype": "f8"
                  },
                  "xaxis": "x",
                  "yaxis": "y"
                }
              ],
              "layout": {
                "barmode": "relative",
                "legend": {
                  "tracegroupgap": 0
                },
                "template": {
                  "data": {
                    "candlestick": [
                      {
                        "decreasing": {
                          "line": {
                            "color": "#000033"
                          }
                        },
                        "increasing": {
                          "line": {
                            "color": "#000032"
                          }
                        },
                        "type": "candlestick"
                      }
                    ],
                    "contour": [
                      {
                        "colorscale": [
                          [
                            0,
                            "#000011"
                          ],
                          [
                            0.1111111111111111,
                            "#000012"
                          ],
                          [
                            0.2222222222222222,
                            "#000013"
                          ],
                          [
                            0.3333333333333333,
                            "#000014"
                          ],
                          [
                            0.4444444444444444,
                            "#000015"
                          ],
                          [
                            0.5555555555555556,
                            "#000016"
                          ],
                          [
                            0.6666666666666666,
                            "#000017"
                          ],
                          [
                            0.7777777777777778,
                            "#000018"
                          ],
                          [
                            0.8888888888888888,
                            "#000019"
                          ],
                          [
                            1,
                            "#000020"
                          ]
                        ],
                        "type": "contour"
                      }
                    ],
                    "contourcarpet": [
                      {
                        "colorscale": [
                          [
                            0,
                            "#000011"
                          ],
                          [
                            0.1111111111111111,
                            "#000012"
                          ],
                          [
                            0.2222222222222222,
                            "#000013"
                          ],
                          [
                            0.3333333333333333,
                            "#000014"
                          ],
                          [
                            0.4444444444444444,
                            "#000015"
                          ],
                          [
                            0.5555555555555556,
                            "#000016"
                          ],
                          [
                            0.6666666666666666,
                            "#000017"
                          ],
                          [
                            0.7777777777777778,
                            "#000018"
                          ],
                          [
                            0.8888888888888888,
                            "#000019"
                          ],
                          [
                            1,
                            "#000020"
                          ]
                        ],
                        "type": "contourcarpet"
                      }
                    ],
                    "heatmap": [
                      {
                        "colorscale": [
                          [
                            0,
                            "#000011"
                          ],
                          [
                            0.1111111111111111,
                            "#000012"
                          ],
                          [
                            0.2222222222222222,
                            "#000013"
                          ],
                          [
                            0.3333333333333333,
                            "#000014"
                          ],
                          [
                            0.4444444444444444,
                            "#000015"
                          ],
                          [
                            0.5555555555555556,
                            "#000016"
                          ],
                          [
                            0.6666666666666666,
                            "#000017"
                          ],
                          [
                            0.7777777777777778,
                            "#000018"
                          ],
                          [
                            0.8888888888888888,
                            "#000019"
                          ],
                          [
                            1,
                            "#000020"
                          ]
                        ],
                        "type": "heatmap"
                      }
                    ],
                    "histogram2d": [
                      {
                        "colorscale": [
                          [
                            0,
                            "#000011"
                          ],
                          [
                            0.1111111111111111,
                            "#000012"
                          ],
                          [
                            0.2222222222222222,
                            "#000013"
                          ],
                          [
                            0.3333333333333333,
                            "#000014"
                          ],
                          [
                            0.4444444444444444,
                            "#000015"
                          ],
                          [
                            0.5555555555555556,
                            "#000016"
                          ],
                          [
                            0.6666666666666666,
                            "#000017"
                          ],
                          [
                            0.7777777777777778,
                            "#000018"
                          ],
                          [
                            0.8888888888888888,
                            "#000019"
                          ],
                          [
                            1,
                            "#000020"
                          ]
                        ],
                        "type": "histogram2d"
                      }
                    ],
                    "icicle": [
                      {
                        "textfont": {
                          "color": "white"
                        },
                        "type": "icicle"
                      }
                    ],
                    "sankey": [
                      {
                        "textfont": {
                          "color": "#000036"
                        },
                        "type": "sankey"
                      }
                    ],
                    "scatter": [
                      {
                        "marker": {
                          "line": {
                            "width": 0
                          }
                        },
                        "type": "scatter"
                      }
                    ],
                    "table": [
                      {
                        "cells": {
                          "fill": {
                            "color": "#000038"
                          },
                          "font": {
                            "color": "#000037"
                          },
                          "line": {
                            "color": "#000039"
                          }
                        },
                        "header": {
                          "fill": {
                            "color": "#000040"
                          },
                          "font": {
                            "color": "#000036"
                          },
                          "line": {
                            "color": "#000039"
                          }
                        },
                        "type": "table"
                      }
                    ],
                    "waterfall": [
                      {
                        "connector": {
                          "line": {
                            "color": "#000036",
                            "width": 2
                          }
                        },
                        "decreasing": {
                          "marker": {
                            "color": "#000033"
                          }
                        },
                        "increasing": {
                          "marker": {
                            "color": "#000032"
                          }
                        },
                        "totals": {
                          "marker": {
                            "color": "#000034"
                          }
                        },
                        "type": "waterfall"
                      }
                    ]
                  },
                  "layout": {
                    "coloraxis": {
                      "colorscale": [
                        [
                          0,
                          "#000011"
                        ],
                        [
                          0.1111111111111111,
                          "#000012"
                        ],
                        [
                          0.2222222222222222,
                          "#000013"
                        ],
                        [
                          0.3333333333333333,
                          "#000014"
                        ],
                        [
                          0.4444444444444444,
                          "#000015"
                        ],
                        [
                          0.5555555555555556,
                          "#000016"
                        ],
                        [
                          0.6666666666666666,
                          "#000017"
                        ],
                        [
                          0.7777777777777778,
                          "#000018"
                        ],
                        [
                          0.8888888888888888,
                          "#000019"
                        ],
                        [
                          1,
                          "#000020"
                        ]
                      ]
                    },
                    "colorscale": {
                      "diverging": [
                        [
                          0,
                          "#000021"
                        ],
                        [
                          0.1,
                          "#000022"
                        ],
                        [
                          0.2,
                          "#000023"
                        ],
                        [
                          0.3,
                          "#000024"
                        ],
                        [
                          0.4,
                          "#000025"
                        ],
                        [
                          0.5,
                          "#000026"
                        ],
                        [
                          0.6,
                          "#000027"
                        ],
                        [
                          0.7,
                          "#000028"
                        ],
                        [
                          0.8,
                          "#000029"
                        ],
                        [
                          0.9,
                          "#000030"
                        ],
                        [
                          1,
                          "#000031"
                        ]
                      ],
                      "sequential": [
                        [
                          0,
                          "#000011"
                        ],
                        [
                          0.1111111111111111,
                          "#000012"
                        ],
                        [
                          0.2222222222222222,
                          "#000013"
                        ],
                        [
                          0.3333333333333333,
                          "#000014"
                        ],
                        [
                          0.4444444444444444,
                          "#000015"
                        ],
                        [
                          0.5555555555555556,
                          "#000016"
                        ],
                        [
                          0.6666666666666666,
                          "#000017"
                        ],
                        [
                          0.7777777777777778,
                          "#000018"
                        ],
                        [
                          0.8888888888888888,
                          "#000019"
                        ],
                        [
                          1,
                          "#000020"
                        ]
                      ],
                      "sequentialminus": [
                        [
                          0,
                          "#000011"
                        ],
                        [
                          0.1111111111111111,
                          "#000012"
                        ],
                        [
                          0.2222222222222222,
                          "#000013"
                        ],
                        [
                          0.3333333333333333,
                          "#000014"
                        ],
                        [
                          0.4444444444444444,
                          "#000015"
                        ],
                        [
                          0.5555555555555556,
                          "#000016"
                        ],
                        [
                          0.6666666666666666,
                          "#000017"
                        ],
                        [
                          0.7777777777777778,
                          "#000018"
                        ],
                        [
                          0.8888888888888888,
                          "#000019"
                        ],
                        [
                          1,
                          "#000020"
                        ]
                      ]
                    },
                    "colorway": [
                      "#000001",
                      "#000002",
                      "#000003",
                      "#000004",
                      "#000005",
                      "#000006",
                      "#000007",
                      "#000008",
                      "#000009",
                      "#000010"
                    ]
                  }
                },
                "title": {
                  "text": "Distribución de la Calificación de Clientes"
                },
                "xaxis": {
                  "anchor": "y",
                  "domain": [
                    0,
                    1
                  ],
                  "title": {
                    "text": "Rating"
                  }
                },
                "yaxis": {
                  "anchor": "x",
                  "domain": [
                    0,
                    1
                  ],
                  "title": {
                    "text": "count"
                  }
                }
              }
            }
          },
          "metadata": {},
          "output_type": "display_data"
        }
      ],
      "source": [
        "# 3. Distribución de la Calificación de Clientes\n",
        "fig = px.histogram(df, x='Rating', nbins=20, title='Distribución de la Calificación de Clientes')\n",
        "fig.show()"
      ]
    },
    {
      "cell_type": "code",
      "execution_count": 5,
      "id": "sh3dmB1T07Ee",
      "metadata": {
        "id": "sh3dmB1T07Ee"
      },
      "outputs": [
        {
          "data": {
            "application/vnd.plotly.v1+json": {
              "config": {
                "plotlyServerURL": "https://plot.ly"
              },
              "data": [
                {
                  "alignmentgroup": "True",
                  "hovertemplate": "Customer type=%{x}<br>Total=%{y}<extra></extra>",
                  "legendgroup": "Member",
                  "marker": {
                    "color": "#000001"
                  },
                  "name": "Member",
                  "notched": false,
                  "offsetgroup": "Member",
                  "orientation": "v",
                  "showlegend": true,
                  "type": "box",
                  "x": [
                    "Member",
                    "Member",
                    "Member",
                    "Member",
                    "Member",
                    "Member",
                    "Member",
                    "Member",
                    "Member",
                    "Member",
                    "Member",
                    "Member",
                    "Member",
                    "Member",
                    "Member",
                    "Member",
                    "Member",
                    "Member",
                    "Member",
                    "Member",
                    "Member",
                    "Member",
                    "Member",
                    "Member",
                    "Member",
                    "Member",
                    "Member",
                    "Member",
                    "Member",
                    "Member",
                    "Member",
                    "Member",
                    "Member",
                    "Member",
                    "Member",
                    "Member",
                    "Member",
                    "Member",
                    "Member",
                    "Member",
                    "Member",
                    "Member",
                    "Member",
                    "Member",
                    "Member",
                    "Member",
                    "Member",
                    "Member",
                    "Member",
                    "Member",
                    "Member",
                    "Member",
                    "Member",
                    "Member",
                    "Member",
                    "Member",
                    "Member",
                    "Member",
                    "Member",
                    "Member",
                    "Member",
                    "Member",
                    "Member",
                    "Member",
                    "Member",
                    "Member",
                    "Member",
                    "Member",
                    "Member",
                    "Member",
                    "Member",
                    "Member",
                    "Member",
                    "Member",
                    "Member",
                    "Member",
                    "Member",
                    "Member",
                    "Member",
                    "Member",
                    "Member",
                    "Member",
                    "Member",
                    "Member",
                    "Member",
                    "Member",
                    "Member",
                    "Member",
                    "Member",
                    "Member",
                    "Member",
                    "Member",
                    "Member",
                    "Member",
                    "Member",
                    "Member",
                    "Member",
                    "Member",
                    "Member",
                    "Member",
                    "Member",
                    "Member",
                    "Member",
                    "Member",
                    "Member",
                    "Member",
                    "Member",
                    "Member",
                    "Member",
                    "Member",
                    "Member",
                    "Member",
                    "Member",
                    "Member",
                    "Member",
                    "Member",
                    "Member",
                    "Member",
                    "Member",
                    "Member",
                    "Member",
                    "Member",
                    "Member",
                    "Member",
                    "Member",
                    "Member",
                    "Member",
                    "Member",
                    "Member",
                    "Member",
                    "Member",
                    "Member",
                    "Member",
                    "Member",
                    "Member",
                    "Member",
                    "Member",
                    "Member",
                    "Member",
                    "Member",
                    "Member",
                    "Member",
                    "Member",
                    "Member",
                    "Member",
                    "Member",
                    "Member",
                    "Member",
                    "Member",
                    "Member",
                    "Member",
                    "Member",
                    "Member",
                    "Member",
                    "Member",
                    "Member",
                    "Member",
                    "Member",
                    "Member",
                    "Member",
                    "Member",
                    "Member",
                    "Member",
                    "Member",
                    "Member",
                    "Member",
                    "Member",
                    "Member",
                    "Member",
                    "Member",
                    "Member",
                    "Member",
                    "Member",
                    "Member",
                    "Member",
                    "Member",
                    "Member",
                    "Member",
                    "Member",
                    "Member",
                    "Member",
                    "Member",
                    "Member",
                    "Member",
                    "Member",
                    "Member",
                    "Member",
                    "Member",
                    "Member",
                    "Member",
                    "Member",
                    "Member",
                    "Member",
                    "Member",
                    "Member",
                    "Member",
                    "Member",
                    "Member",
                    "Member",
                    "Member",
                    "Member",
                    "Member",
                    "Member",
                    "Member",
                    "Member",
                    "Member",
                    "Member",
                    "Member",
                    "Member",
                    "Member",
                    "Member",
                    "Member",
                    "Member",
                    "Member",
                    "Member",
                    "Member",
                    "Member",
                    "Member",
                    "Member",
                    "Member",
                    "Member",
                    "Member",
                    "Member",
                    "Member",
                    "Member",
                    "Member",
                    "Member",
                    "Member",
                    "Member",
                    "Member",
                    "Member",
                    "Member",
                    "Member",
                    "Member",
                    "Member",
                    "Member",
                    "Member",
                    "Member",
                    "Member",
                    "Member",
                    "Member",
                    "Member",
                    "Member",
                    "Member",
                    "Member",
                    "Member",
                    "Member",
                    "Member",
                    "Member",
                    "Member",
                    "Member",
                    "Member",
                    "Member",
                    "Member",
                    "Member",
                    "Member",
                    "Member",
                    "Member",
                    "Member",
                    "Member",
                    "Member",
                    "Member",
                    "Member",
                    "Member",
                    "Member",
                    "Member",
                    "Member",
                    "Member",
                    "Member",
                    "Member",
                    "Member",
                    "Member",
                    "Member",
                    "Member",
                    "Member",
                    "Member",
                    "Member",
                    "Member",
                    "Member",
                    "Member",
                    "Member",
                    "Member",
                    "Member",
                    "Member",
                    "Member",
                    "Member",
                    "Member",
                    "Member",
                    "Member",
                    "Member",
                    "Member",
                    "Member",
                    "Member",
                    "Member",
                    "Member",
                    "Member",
                    "Member",
                    "Member",
                    "Member",
                    "Member",
                    "Member",
                    "Member",
                    "Member",
                    "Member",
                    "Member",
                    "Member",
                    "Member",
                    "Member",
                    "Member",
                    "Member",
                    "Member",
                    "Member",
                    "Member",
                    "Member",
                    "Member",
                    "Member",
                    "Member",
                    "Member",
                    "Member",
                    "Member",
                    "Member",
                    "Member",
                    "Member",
                    "Member",
                    "Member",
                    "Member",
                    "Member",
                    "Member",
                    "Member",
                    "Member",
                    "Member",
                    "Member",
                    "Member",
                    "Member",
                    "Member",
                    "Member",
                    "Member",
                    "Member",
                    "Member",
                    "Member",
                    "Member",
                    "Member",
                    "Member",
                    "Member",
                    "Member",
                    "Member",
                    "Member",
                    "Member",
                    "Member",
                    "Member",
                    "Member",
                    "Member",
                    "Member",
                    "Member",
                    "Member",
                    "Member",
                    "Member",
                    "Member",
                    "Member",
                    "Member",
                    "Member",
                    "Member",
                    "Member",
                    "Member",
                    "Member",
                    "Member",
                    "Member",
                    "Member",
                    "Member",
                    "Member",
                    "Member",
                    "Member",
                    "Member",
                    "Member",
                    "Member",
                    "Member",
                    "Member",
                    "Member",
                    "Member",
                    "Member",
                    "Member",
                    "Member",
                    "Member",
                    "Member",
                    "Member",
                    "Member",
                    "Member",
                    "Member",
                    "Member",
                    "Member",
                    "Member",
                    "Member",
                    "Member",
                    "Member",
                    "Member",
                    "Member",
                    "Member",
                    "Member",
                    "Member",
                    "Member",
                    "Member",
                    "Member",
                    "Member",
                    "Member",
                    "Member",
                    "Member",
                    "Member",
                    "Member",
                    "Member",
                    "Member",
                    "Member",
                    "Member",
                    "Member",
                    "Member",
                    "Member",
                    "Member",
                    "Member",
                    "Member",
                    "Member",
                    "Member",
                    "Member",
                    "Member",
                    "Member",
                    "Member",
                    "Member",
                    "Member",
                    "Member",
                    "Member",
                    "Member",
                    "Member",
                    "Member",
                    "Member",
                    "Member",
                    "Member",
                    "Member",
                    "Member",
                    "Member",
                    "Member",
                    "Member",
                    "Member",
                    "Member",
                    "Member",
                    "Member",
                    "Member",
                    "Member",
                    "Member",
                    "Member",
                    "Member",
                    "Member",
                    "Member",
                    "Member",
                    "Member",
                    "Member",
                    "Member",
                    "Member",
                    "Member",
                    "Member",
                    "Member",
                    "Member",
                    "Member",
                    "Member",
                    "Member",
                    "Member",
                    "Member",
                    "Member",
                    "Member",
                    "Member",
                    "Member",
                    "Member",
                    "Member",
                    "Member",
                    "Member",
                    "Member",
                    "Member",
                    "Member",
                    "Member",
                    "Member",
                    "Member",
                    "Member",
                    "Member",
                    "Member",
                    "Member",
                    "Member",
                    "Member",
                    "Member",
                    "Member",
                    "Member",
                    "Member",
                    "Member",
                    "Member",
                    "Member",
                    "Member",
                    "Member",
                    "Member",
                    "Member",
                    "Member",
                    "Member",
                    "Member",
                    "Member",
                    "Member",
                    "Member"
                  ],
                  "x0": " ",
                  "xaxis": "x",
                  "y": {
                    "bdata": "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",
                    "dtype": "f8"
                  },
                  "y0": " ",
                  "yaxis": "y"
                },
                {
                  "alignmentgroup": "True",
                  "hovertemplate": "Customer type=%{x}<br>Total=%{y}<extra></extra>",
                  "legendgroup": "Normal",
                  "marker": {
                    "color": "#000002"
                  },
                  "name": "Normal",
                  "notched": false,
                  "offsetgroup": "Normal",
                  "orientation": "v",
                  "showlegend": true,
                  "type": "box",
                  "x": [
                    "Normal",
                    "Normal",
                    "Normal",
                    "Normal",
                    "Normal",
                    "Normal",
                    "Normal",
                    "Normal",
                    "Normal",
                    "Normal",
                    "Normal",
                    "Normal",
                    "Normal",
                    "Normal",
                    "Normal",
                    "Normal",
                    "Normal",
                    "Normal",
                    "Normal",
                    "Normal",
                    "Normal",
                    "Normal",
                    "Normal",
                    "Normal",
                    "Normal",
                    "Normal",
                    "Normal",
                    "Normal",
                    "Normal",
                    "Normal",
                    "Normal",
                    "Normal",
                    "Normal",
                    "Normal",
                    "Normal",
                    "Normal",
                    "Normal",
                    "Normal",
                    "Normal",
                    "Normal",
                    "Normal",
                    "Normal",
                    "Normal",
                    "Normal",
                    "Normal",
                    "Normal",
                    "Normal",
                    "Normal",
                    "Normal",
                    "Normal",
                    "Normal",
                    "Normal",
                    "Normal",
                    "Normal",
                    "Normal",
                    "Normal",
                    "Normal",
                    "Normal",
                    "Normal",
                    "Normal",
                    "Normal",
                    "Normal",
                    "Normal",
                    "Normal",
                    "Normal",
                    "Normal",
                    "Normal",
                    "Normal",
                    "Normal",
                    "Normal",
                    "Normal",
                    "Normal",
                    "Normal",
                    "Normal",
                    "Normal",
                    "Normal",
                    "Normal",
                    "Normal",
                    "Normal",
                    "Normal",
                    "Normal",
                    "Normal",
                    "Normal",
                    "Normal",
                    "Normal",
                    "Normal",
                    "Normal",
                    "Normal",
                    "Normal",
                    "Normal",
                    "Normal",
                    "Normal",
                    "Normal",
                    "Normal",
                    "Normal",
                    "Normal",
                    "Normal",
                    "Normal",
                    "Normal",
                    "Normal",
                    "Normal",
                    "Normal",
                    "Normal",
                    "Normal",
                    "Normal",
                    "Normal",
                    "Normal",
                    "Normal",
                    "Normal",
                    "Normal",
                    "Normal",
                    "Normal",
                    "Normal",
                    "Normal",
                    "Normal",
                    "Normal",
                    "Normal",
                    "Normal",
                    "Normal",
                    "Normal",
                    "Normal",
                    "Normal",
                    "Normal",
                    "Normal",
                    "Normal",
                    "Normal",
                    "Normal",
                    "Normal",
                    "Normal",
                    "Normal",
                    "Normal",
                    "Normal",
                    "Normal",
                    "Normal",
                    "Normal",
                    "Normal",
                    "Normal",
                    "Normal",
                    "Normal",
                    "Normal",
                    "Normal",
                    "Normal",
                    "Normal",
                    "Normal",
                    "Normal",
                    "Normal",
                    "Normal",
                    "Normal",
                    "Normal",
                    "Normal",
                    "Normal",
                    "Normal",
                    "Normal",
                    "Normal",
                    "Normal",
                    "Normal",
                    "Normal",
                    "Normal",
                    "Normal",
                    "Normal",
                    "Normal",
                    "Normal",
                    "Normal",
                    "Normal",
                    "Normal",
                    "Normal",
                    "Normal",
                    "Normal",
                    "Normal",
                    "Normal",
                    "Normal",
                    "Normal",
                    "Normal",
                    "Normal",
                    "Normal",
                    "Normal",
                    "Normal",
                    "Normal",
                    "Normal",
                    "Normal",
                    "Normal",
                    "Normal",
                    "Normal",
                    "Normal",
                    "Normal",
                    "Normal",
                    "Normal",
                    "Normal",
                    "Normal",
                    "Normal",
                    "Normal",
                    "Normal",
                    "Normal",
                    "Normal",
                    "Normal",
                    "Normal",
                    "Normal",
                    "Normal",
                    "Normal",
                    "Normal",
                    "Normal",
                    "Normal",
                    "Normal",
                    "Normal",
                    "Normal",
                    "Normal",
                    "Normal",
                    "Normal",
                    "Normal",
                    "Normal",
                    "Normal",
                    "Normal",
                    "Normal",
                    "Normal",
                    "Normal",
                    "Normal",
                    "Normal",
                    "Normal",
                    "Normal",
                    "Normal",
                    "Normal",
                    "Normal",
                    "Normal",
                    "Normal",
                    "Normal",
                    "Normal",
                    "Normal",
                    "Normal",
                    "Normal",
                    "Normal",
                    "Normal",
                    "Normal",
                    "Normal",
                    "Normal",
                    "Normal",
                    "Normal",
                    "Normal",
                    "Normal",
                    "Normal",
                    "Normal",
                    "Normal",
                    "Normal",
                    "Normal",
                    "Normal",
                    "Normal",
                    "Normal",
                    "Normal",
                    "Normal",
                    "Normal",
                    "Normal",
                    "Normal",
                    "Normal",
                    "Normal",
                    "Normal",
                    "Normal",
                    "Normal",
                    "Normal",
                    "Normal",
                    "Normal",
                    "Normal",
                    "Normal",
                    "Normal",
                    "Normal",
                    "Normal",
                    "Normal",
                    "Normal",
                    "Normal",
                    "Normal",
                    "Normal",
                    "Normal",
                    "Normal",
                    "Normal",
                    "Normal",
                    "Normal",
                    "Normal",
                    "Normal",
                    "Normal",
                    "Normal",
                    "Normal",
                    "Normal",
                    "Normal",
                    "Normal",
                    "Normal",
                    "Normal",
                    "Normal",
                    "Normal",
                    "Normal",
                    "Normal",
                    "Normal",
                    "Normal",
                    "Normal",
                    "Normal",
                    "Normal",
                    "Normal",
                    "Normal",
                    "Normal",
                    "Normal",
                    "Normal",
                    "Normal",
                    "Normal",
                    "Normal",
                    "Normal",
                    "Normal",
                    "Normal",
                    "Normal",
                    "Normal",
                    "Normal",
                    "Normal",
                    "Normal",
                    "Normal",
                    "Normal",
                    "Normal",
                    "Normal",
                    "Normal",
                    "Normal",
                    "Normal",
                    "Normal",
                    "Normal",
                    "Normal",
                    "Normal",
                    "Normal",
                    "Normal",
                    "Normal",
                    "Normal",
                    "Normal",
                    "Normal",
                    "Normal",
                    "Normal",
                    "Normal",
                    "Normal",
                    "Normal",
                    "Normal",
                    "Normal",
                    "Normal",
                    "Normal",
                    "Normal",
                    "Normal",
                    "Normal",
                    "Normal",
                    "Normal",
                    "Normal",
                    "Normal",
                    "Normal",
                    "Normal",
                    "Normal",
                    "Normal",
                    "Normal",
                    "Normal",
                    "Normal",
                    "Normal",
                    "Normal",
                    "Normal",
                    "Normal",
                    "Normal",
                    "Normal",
                    "Normal",
                    "Normal",
                    "Normal",
                    "Normal",
                    "Normal",
                    "Normal",
                    "Normal",
                    "Normal",
                    "Normal",
                    "Normal",
                    "Normal",
                    "Normal",
                    "Normal",
                    "Normal",
                    "Normal",
                    "Normal",
                    "Normal",
                    "Normal",
                    "Normal",
                    "Normal",
                    "Normal",
                    "Normal",
                    "Normal",
                    "Normal",
                    "Normal",
                    "Normal",
                    "Normal",
                    "Normal",
                    "Normal",
                    "Normal",
                    "Normal",
                    "Normal",
                    "Normal",
                    "Normal",
                    "Normal",
                    "Normal",
                    "Normal",
                    "Normal",
                    "Normal",
                    "Normal",
                    "Normal",
                    "Normal",
                    "Normal",
                    "Normal",
                    "Normal",
                    "Normal",
                    "Normal",
                    "Normal",
                    "Normal",
                    "Normal",
                    "Normal",
                    "Normal",
                    "Normal",
                    "Normal",
                    "Normal",
                    "Normal",
                    "Normal",
                    "Normal",
                    "Normal",
                    "Normal",
                    "Normal",
                    "Normal",
                    "Normal",
                    "Normal",
                    "Normal",
                    "Normal",
                    "Normal",
                    "Normal",
                    "Normal",
                    "Normal",
                    "Normal",
                    "Normal",
                    "Normal",
                    "Normal",
                    "Normal",
                    "Normal",
                    "Normal",
                    "Normal",
                    "Normal",
                    "Normal",
                    "Normal",
                    "Normal",
                    "Normal",
                    "Normal",
                    "Normal",
                    "Normal",
                    "Normal",
                    "Normal",
                    "Normal",
                    "Normal",
                    "Normal",
                    "Normal",
                    "Normal",
                    "Normal",
                    "Normal",
                    "Normal",
                    "Normal",
                    "Normal",
                    "Normal",
                    "Normal",
                    "Normal",
                    "Normal",
                    "Normal",
                    "Normal",
                    "Normal",
                    "Normal",
                    "Normal",
                    "Normal",
                    "Normal",
                    "Normal",
                    "Normal",
                    "Normal",
                    "Normal",
                    "Normal",
                    "Normal",
                    "Normal",
                    "Normal",
                    "Normal",
                    "Normal",
                    "Normal",
                    "Normal",
                    "Normal",
                    "Normal",
                    "Normal",
                    "Normal",
                    "Normal",
                    "Normal",
                    "Normal",
                    "Normal",
                    "Normal",
                    "Normal",
                    "Normal",
                    "Normal",
                    "Normal",
                    "Normal",
                    "Normal",
                    "Normal",
                    "Normal",
                    "Normal",
                    "Normal",
                    "Normal",
                    "Normal",
                    "Normal",
                    "Normal"
                  ],
                  "x0": " ",
                  "xaxis": "x",
                  "y": {
                    "bdata": "rkfhehQOVEDFILByaEh1QEoMAisH04NA30+Nl+6cg0DXo3A9CiOIQJqZmZmZz25AUrgehetXfEBSuB6F62uHQAwCK4cWl3xA2/l+aryGZUC4HoXrUShVQNV46SYxUnFArkfhehRuUUCuR+F6FK5mQAwCK4cWmUFAgZVDi2wDZ0AK16NwPf58QNv5fmq8Zm1AUrgehevifkC8dJMYBP6FQBkEVg4tWmlASgwCK4f6gUBoke18P9V8QCuHFtnO90BAYOXQItuRhkCF61G4HoWHQOXQItv5GmhA3SQGgZXxdUDufD81XpJRQEjhehSu2IlAuB6F61FcjUCuR+F6FGKEQH0/NV66431AZDvfTw0NhkAzMzMzM1V7QEjhehSuv1pAGQRWDi2Hg0DpJjEIrAhzQGZmZmZmNmRAsHJoke0Tg0BI4XoUrht5QIcW2c73S0ZAO99PjZdQfkAUrkfhenB9QDMzMzMzj1dA/tR46SaBWUCuR+F6FNWMQKRwPQrXm1NAMzMzMzPFZECuR+F6FEiAQHsUrkdhModA7nw/NV5Aa0D4U+Olm/B2QLgehetR4mtAK4cW2c6PZUBiEFg5tHZ4QLKd76fGEXRAokW28/26gECsHFpkO0dVQIXrUbgexVxAdZMYBFYOXEDfT42XbiKKQLbz/dT4hIVAAAAAAAAqZUB/arx0k71yQLpJDAIrqYpAWmQ7308zckDRItv5fkpiQOxRuB6FAYBADAIrhxbDcUCuR+F6FERhQD0K16NwCIFAAAAAAAAIg0CPwvUoXLF+QF66SQwCN3JA+FPjpZtccUC0yHa+nwpxQG3n+6nxlIhA2/l+arz0WUB3vp8aL0GFQOxRuB6Ff3BAYOXQIttigkAIrBxaZKt2QIcW2c73t1BAlkOLbOcIdUCuR+F6FA5kQDMzMzMzL3pAH4XrUbhcj0Bcj8L1KD2QQBsv3SQGMXRApHA9Ctf4dkAUrkfheuRlQGQ730+Nx2RAMQisHFquZEDJdr6fGhd9QOXQItv5hH1AJQaBlUMDckDb+X5qvKxWQC/dJAaBcVNArBxaZDtTckASg8DKoVVuQAaBlUOLTGNASOF6FK7tiUCkcD0K19NaQOF6FK5Hd2VAy6FFtvONOkCamZmZmcllQIlBYOXQNXxAg8DKoUU0a0A730+Nl+pXQAwCK4eWc41Ay6FFtvP7bkD6fmq8dIqLQArXo3A9Tn5AQmDl0CJHYkCLbOf7qTEzQI/C9ShcQWBAJQaBlUPniEAdWmQ735NmQOF6FK5H23FA+FPjpZuEfEC4HoXrUQBPQM3MzMzMtFZA5/up8dKlgEDy0k1iEFxlQGIQWDk01YhAXrpJDAJzaED2KFyPwtlWQLpJDAIri1dAYOXQItt1bUAMAiuHFmFfQPLSTWIQpIhAsHJoke3HgEDy0k1iEDg+QAAAAAAA8FhAqMZLN4kqhkD2KFyPwkVRQK5H4XoUlkxAukkMAiufYkCF61G4HiB2QBfZzvdTQzlAqvHSTWKhg0CDwMqhRQl2QE5iEFg5DHlAWmQ7309dgkDNzMzMzGxDQAisHFpkGzBAhetRuB7hdUAAAAAAAA5sQLKd76fGSHZAuB6F61GWaUApXI/C9cRnQNV46SYxSF5AlkOLbOczakB3vp8aL4VJQA4tsp3v32pA0SLb+X5qX0A1XrpJDHtyQDEIrBxagGVAeekmMQgWa0A1XrpJDLJEQEa28/3UCFhASOF6FK5EdEDfT42XbvJgQOOlm8QgqHlAAiuHFtkCakBxPQrXo+hZQEjhehSuRXlApHA9CtePhkCPwvUoXNF2QIXrUbgew2JA7FG4HoXWf0AfhetRuJRhQF66SQyCA4dAlkOLbOfnZ0AAAAAAALhhQDm0yHa+vndAjZduEoPAP0BmZmZmZqR4QClcj8L1UI9AAAAAAACoVUBEi2zn+61TQKrx0k1izIhA2c73U+MxakB/arx0k9R8QC2yne+npmVAN4lBYOVwdUDdJAaBlU9+QClcj8L12GJAjZduEoMAYEAMAiuHFpt7QIts5/upkXBAw/UoXI8DdkBaZDvfz+6FQIXrUbge1VhAVOOlm8TwS0AUrkfh+lqAQFK4HoXr3WpAI9v5fmpqckD2KFyPwjV1QNNNYhBYvWBAmpmZmZnneEBKDAIrh+5UQAAAAAAAbnlASOF6FK7OcUBWDi2ynQ1gQAwCK4cWDW9AhxbZzvdDaEAAAAAAABZqQD0K16NwGVJAEoPAyqGtbUDsUbgehUNfQOF6FK5Hc3ZALbKd76f2RkDTTWIQWFlUQKJFtvP9vHpAO99PjZc6WUBQjZduEtNnQO58PzVeCl5AhetRuB6McEDy0k1iEBgxQEjhehSuEnZAGQRWDi0iYkBzaJHtfLdWQKjGSzeJeWJAmG4Sg8DxhUAOLbKd7+dIQAaBlUOLTo1AqvHSTWLEakDdJAaBlXN1QEoMAiuH1ipAuB6F61GMYUA730+NlwJiQFTjpZvEan1A8KfGSzdVYUAK16NwPd90QAAAAAAAQDpA9ihcj8IMikBWDi2ynddCQI/C9Shcl2pAPQrXo3Bpc0CsHFpkOydtQGIQWDm0qDZAoBov3SSqaUBI4XoUrtNlQC/dJAaBEXZAXI/C9SiOdkCkcD0K10NEQHe+nxovUYFAZmZmZmaGdUDsUbgehV9oQIXrUbge93pAKVyPwvWAY0DP91PjpRs4QEjhehSuN1JA+FPjpZs4akDn+6nx0u2DQKrx0k1imGBAarx0kxjEgUBI4XoUrjdiQN9PjZdufmhApHA9Ctc3V0CF61G4HoyAQHsUrkfhKGxAF9nO91PveEDXo3A9it2GQMHKoUW2O1JAIbByaJH/YUC+nxov3YBgQHe+nxovFoBA5/up8dKVZEDJdr6fmveMQKabxCCwBmRAMzMzMzMfbkCgGi/dJERjQPYoXI/ClWJAIbByaJGhXkAhsHJokbVZQClcj8L1LHNADAIrhxYpWEBxPQrXo7BSQMP1KFyPTnNAuB6F69H/gUCPwvUoXOlwQAIrhxbZAnpAiUFg5dCMZkB1kxgE1gmAQG3n+6nxMoFAqMZLN4l9YUCHFtnO94NdQG8Sg8DKfWlAzczMzMxEjUBoke18P0V2QJqZmZmZDWpAcT0K16OlikAfhetRuC+AQG3n+6nxaYNAVOOlm8RXgkAbL90kBv6AQPhT46WbAGNAPQrXo3AwfEC4HoXrUahvQNnO91PjrWBAbef7qfHecEBQjZduEj9iQGQ730+Nb1VAnMQgsHLUaEDn+6nx0iVrQB1aZDvfm2RArkfhehRCbEAK16NwPY+DQLgehetRMFNAgZVDi2xXR0D2KFyPwo1kQKJFtvP9jntAzczMzMwuaEDl0CLb+c5VQBfZzvdTD1FA16NwPQpziUD4U+Olm3Z1QDMzMzMzq2BARIts5/sRQECcxCCwcmg+QNNNYhBYOWxAAAAAAABRi0CwcmiR7fRfQN0kBoGVYylAKVyPwvUPhUDP91PjpdVuQHsUrkfhoHNA16NwPQqZakDhehSuR0FIQA4tsp3vo2RAukkMAiule0C4HoXrUTxwQD0K16Nw03hAz/dT46X5dUCR7Xw/NbZIQLpJDAIrK1pATDeJQWDrYECPwvUoXO9pQB1aZDvfh2lAdZMYBFbeUkAX2c73U1NVQH0/NV6652xA8KfGSzepcUBxPQrXo9h9QM3MzMzMV4NAWDm0yHZGQkD6fmq8dGtzQEjhehSua2pAhetRuB4Rf0C6SQwCK1NwQAAAAAAA/o9AyXa+nxq3f0DByqFFtnNZQH9qvHQTfIBAMzMzMzOTZkAtsp3vp2ZgQIXrUbgePVRAF9nO99PshkAK16NwPVxgQArXo3A9amdA/Knx0k3eYUDByqFFtntnQJ7vp8ZLX2FAXI/C9SjihkAdWmQ734d5QM3MzMzMDGZAObTIdr5tgUCkcD0K10eDQEw3iUFgv4tA2/l+aryLeUB/arx0k0RWQNejcD0K52FA7FG4HoULeEDZzvdT44mJQPhT46WbAINAI9v5fmoUbUBSuB6F66qHQPT91HjpDolAAiuHFtnybUArhxbZzo9VQF66SQwCG3lAf2q8dJMAUkBoke18P4VLQBSuR+F68GJAQmDl0CKDWECkcD0K1+NmQB1aZDvf33hAbef7qfEad0D8qfHSTSGBQF66SQwC34JA4XoUrkfZTECJQWDl0A97QC/dJAaBXUhArkfhehTzj0Cq8dJNYnhYQESLbOf7iUxAiUFg5dBaWECJQWDl0B5iQESLbOf7VXRABFYOLbJ1aED0/dR46V5qQDMzMzMzozJAhetRuB5nhEAzMzMzM5NWQEjhehSua3pArkfhehT6WECBlUOLbO97QDm0yHa+33RAtvP91HjJcUAj2/l+asRrQIcW2c73DWtAzczMzMxPhUCTGARWDi1WQGIQWDm0bHBAHVpkO99/S0BiEFg5tJJxQK5H4XoUVYJAZDvfT41zZEC4HoXrUahPQIlBYOXQYjZAObTIdr5/N0BxPQrXo4KDQOxRuB6Fc1NAYOXQItvZaUCgGi/dJG94QI/C9ShcUoFAWmQ730+QdUCTGARWDi1mQFCNl24SrXZAoBov3SSmWkBGtvP91HV3QJzEILBy9HBAmpmZmZmpTUC28/3UeCGBQNNNYhBYoYdAke18PzXwdEDTTWIQWJlZQD0K16Nwc3tAyXa+nxpnfkCkcD0K159iQGQ730+NB4pAGy/dJAbne0DufD81XiJoQMHKoUW2L1VAke18PzWeXkAK16NwPcOLQFK4HoXrMXtApHA9CtcUgEAdWmQ733dtQIts5/upcYhAEFg5tMjya0Dn+6nx0tl4QBkEVg4tKGtAqvHSTWLIWUASg8DKoRiDQOOlm8Qg8ExAMzMzM7MPikAX2c73U5NKQIcW2c73q4NAKVyPwvVsiEArhxbZzm99QOxRuB6F3XhArBxaZLsegkC4HoXrUVx9QEa28/3UjnZAoBov3SR2cUAK16NwPfp9QI/C9ShcqnBAoBov3SSQhUCq8dJNYsBrQKwcWmQ7jnNAiUFg5dAeckDNzMzMzLxkQGZmZmZmRjBAZDvfT41/UUBzaJHtfBdUQClcj8L1qnNAw/UoXI/iSED8qfHSTQCEQPLSTWIQiG9ADi2yne+bZkD+1HjpJplzQClcj8L1uDpAoBov3STKUUCPwvUoXIduQM/3U+Ol9YZAkxgEVo4ihkBxPQrXo+d0QOXQItv5/j5A16NwPQqPckBmZmZmZiKJQKwcWmQ7d15AcT0K16P0ZkDXo3A9Ci9FQFK4HoXr849AyXa+nxpHUUA=",
                    "dtype": "f8"
                  },
                  "y0": " ",
                  "yaxis": "y"
                }
              ],
              "layout": {
                "boxmode": "overlay",
                "legend": {
                  "title": {
                    "text": "Customer type"
                  },
                  "tracegroupgap": 0
                },
                "template": {
                  "data": {
                    "candlestick": [
                      {
                        "decreasing": {
                          "line": {
                            "color": "#000033"
                          }
                        },
                        "increasing": {
                          "line": {
                            "color": "#000032"
                          }
                        },
                        "type": "candlestick"
                      }
                    ],
                    "contour": [
                      {
                        "colorscale": [
                          [
                            0,
                            "#000011"
                          ],
                          [
                            0.1111111111111111,
                            "#000012"
                          ],
                          [
                            0.2222222222222222,
                            "#000013"
                          ],
                          [
                            0.3333333333333333,
                            "#000014"
                          ],
                          [
                            0.4444444444444444,
                            "#000015"
                          ],
                          [
                            0.5555555555555556,
                            "#000016"
                          ],
                          [
                            0.6666666666666666,
                            "#000017"
                          ],
                          [
                            0.7777777777777778,
                            "#000018"
                          ],
                          [
                            0.8888888888888888,
                            "#000019"
                          ],
                          [
                            1,
                            "#000020"
                          ]
                        ],
                        "type": "contour"
                      }
                    ],
                    "contourcarpet": [
                      {
                        "colorscale": [
                          [
                            0,
                            "#000011"
                          ],
                          [
                            0.1111111111111111,
                            "#000012"
                          ],
                          [
                            0.2222222222222222,
                            "#000013"
                          ],
                          [
                            0.3333333333333333,
                            "#000014"
                          ],
                          [
                            0.4444444444444444,
                            "#000015"
                          ],
                          [
                            0.5555555555555556,
                            "#000016"
                          ],
                          [
                            0.6666666666666666,
                            "#000017"
                          ],
                          [
                            0.7777777777777778,
                            "#000018"
                          ],
                          [
                            0.8888888888888888,
                            "#000019"
                          ],
                          [
                            1,
                            "#000020"
                          ]
                        ],
                        "type": "contourcarpet"
                      }
                    ],
                    "heatmap": [
                      {
                        "colorscale": [
                          [
                            0,
                            "#000011"
                          ],
                          [
                            0.1111111111111111,
                            "#000012"
                          ],
                          [
                            0.2222222222222222,
                            "#000013"
                          ],
                          [
                            0.3333333333333333,
                            "#000014"
                          ],
                          [
                            0.4444444444444444,
                            "#000015"
                          ],
                          [
                            0.5555555555555556,
                            "#000016"
                          ],
                          [
                            0.6666666666666666,
                            "#000017"
                          ],
                          [
                            0.7777777777777778,
                            "#000018"
                          ],
                          [
                            0.8888888888888888,
                            "#000019"
                          ],
                          [
                            1,
                            "#000020"
                          ]
                        ],
                        "type": "heatmap"
                      }
                    ],
                    "histogram2d": [
                      {
                        "colorscale": [
                          [
                            0,
                            "#000011"
                          ],
                          [
                            0.1111111111111111,
                            "#000012"
                          ],
                          [
                            0.2222222222222222,
                            "#000013"
                          ],
                          [
                            0.3333333333333333,
                            "#000014"
                          ],
                          [
                            0.4444444444444444,
                            "#000015"
                          ],
                          [
                            0.5555555555555556,
                            "#000016"
                          ],
                          [
                            0.6666666666666666,
                            "#000017"
                          ],
                          [
                            0.7777777777777778,
                            "#000018"
                          ],
                          [
                            0.8888888888888888,
                            "#000019"
                          ],
                          [
                            1,
                            "#000020"
                          ]
                        ],
                        "type": "histogram2d"
                      }
                    ],
                    "icicle": [
                      {
                        "textfont": {
                          "color": "white"
                        },
                        "type": "icicle"
                      }
                    ],
                    "sankey": [
                      {
                        "textfont": {
                          "color": "#000036"
                        },
                        "type": "sankey"
                      }
                    ],
                    "scatter": [
                      {
                        "marker": {
                          "line": {
                            "width": 0
                          }
                        },
                        "type": "scatter"
                      }
                    ],
                    "table": [
                      {
                        "cells": {
                          "fill": {
                            "color": "#000038"
                          },
                          "font": {
                            "color": "#000037"
                          },
                          "line": {
                            "color": "#000039"
                          }
                        },
                        "header": {
                          "fill": {
                            "color": "#000040"
                          },
                          "font": {
                            "color": "#000036"
                          },
                          "line": {
                            "color": "#000039"
                          }
                        },
                        "type": "table"
                      }
                    ],
                    "waterfall": [
                      {
                        "connector": {
                          "line": {
                            "color": "#000036",
                            "width": 2
                          }
                        },
                        "decreasing": {
                          "marker": {
                            "color": "#000033"
                          }
                        },
                        "increasing": {
                          "marker": {
                            "color": "#000032"
                          }
                        },
                        "totals": {
                          "marker": {
                            "color": "#000034"
                          }
                        },
                        "type": "waterfall"
                      }
                    ]
                  },
                  "layout": {
                    "coloraxis": {
                      "colorscale": [
                        [
                          0,
                          "#000011"
                        ],
                        [
                          0.1111111111111111,
                          "#000012"
                        ],
                        [
                          0.2222222222222222,
                          "#000013"
                        ],
                        [
                          0.3333333333333333,
                          "#000014"
                        ],
                        [
                          0.4444444444444444,
                          "#000015"
                        ],
                        [
                          0.5555555555555556,
                          "#000016"
                        ],
                        [
                          0.6666666666666666,
                          "#000017"
                        ],
                        [
                          0.7777777777777778,
                          "#000018"
                        ],
                        [
                          0.8888888888888888,
                          "#000019"
                        ],
                        [
                          1,
                          "#000020"
                        ]
                      ]
                    },
                    "colorscale": {
                      "diverging": [
                        [
                          0,
                          "#000021"
                        ],
                        [
                          0.1,
                          "#000022"
                        ],
                        [
                          0.2,
                          "#000023"
                        ],
                        [
                          0.3,
                          "#000024"
                        ],
                        [
                          0.4,
                          "#000025"
                        ],
                        [
                          0.5,
                          "#000026"
                        ],
                        [
                          0.6,
                          "#000027"
                        ],
                        [
                          0.7,
                          "#000028"
                        ],
                        [
                          0.8,
                          "#000029"
                        ],
                        [
                          0.9,
                          "#000030"
                        ],
                        [
                          1,
                          "#000031"
                        ]
                      ],
                      "sequential": [
                        [
                          0,
                          "#000011"
                        ],
                        [
                          0.1111111111111111,
                          "#000012"
                        ],
                        [
                          0.2222222222222222,
                          "#000013"
                        ],
                        [
                          0.3333333333333333,
                          "#000014"
                        ],
                        [
                          0.4444444444444444,
                          "#000015"
                        ],
                        [
                          0.5555555555555556,
                          "#000016"
                        ],
                        [
                          0.6666666666666666,
                          "#000017"
                        ],
                        [
                          0.7777777777777778,
                          "#000018"
                        ],
                        [
                          0.8888888888888888,
                          "#000019"
                        ],
                        [
                          1,
                          "#000020"
                        ]
                      ],
                      "sequentialminus": [
                        [
                          0,
                          "#000011"
                        ],
                        [
                          0.1111111111111111,
                          "#000012"
                        ],
                        [
                          0.2222222222222222,
                          "#000013"
                        ],
                        [
                          0.3333333333333333,
                          "#000014"
                        ],
                        [
                          0.4444444444444444,
                          "#000015"
                        ],
                        [
                          0.5555555555555556,
                          "#000016"
                        ],
                        [
                          0.6666666666666666,
                          "#000017"
                        ],
                        [
                          0.7777777777777778,
                          "#000018"
                        ],
                        [
                          0.8888888888888888,
                          "#000019"
                        ],
                        [
                          1,
                          "#000020"
                        ]
                      ]
                    },
                    "colorway": [
                      "#000001",
                      "#000002",
                      "#000003",
                      "#000004",
                      "#000005",
                      "#000006",
                      "#000007",
                      "#000008",
                      "#000009",
                      "#000010"
                    ]
                  }
                },
                "title": {
                  "text": "Comparación del Gasto por Tipo de Cliente"
                },
                "xaxis": {
                  "anchor": "y",
                  "categoryarray": [
                    "Member",
                    "Normal"
                  ],
                  "categoryorder": "array",
                  "domain": [
                    0,
                    1
                  ],
                  "title": {
                    "text": "Customer type"
                  }
                },
                "yaxis": {
                  "anchor": "x",
                  "domain": [
                    0,
                    1
                  ],
                  "title": {
                    "text": "Total"
                  }
                }
              }
            }
          },
          "metadata": {},
          "output_type": "display_data"
        }
      ],
      "source": [
        "# 4. Comparación del Gasto por Tipo de Cliente\n",
        "fig = px.box(df, x='Customer type', y='Total', color='Customer type', title='Comparación del Gasto por Tipo de Cliente')\n",
        "fig.show()"
      ]
    },
    {
      "cell_type": "code",
      "execution_count": 7,
      "id": "0TCFmWNy065Z",
      "metadata": {
        "id": "0TCFmWNy065Z"
      },
      "outputs": [
        {
          "data": {
            "application/vnd.plotly.v1+json": {
              "config": {
                "plotlyServerURL": "https://plot.ly"
              },
              "data": [
                {
                  "hovertemplate": "cogs=%{x}<br>gross income=%{y}<extra></extra>",
                  "legendgroup": "",
                  "marker": {
                    "color": "#000001",
                    "symbol": "circle"
                  },
                  "mode": "markers",
                  "name": "",
                  "orientation": "v",
                  "showlegend": false,
                  "type": "scatter",
                  "x": {
                    "bdata": "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",
                    "dtype": "f8"
                  },
                  "xaxis": "x",
                  "y": {
                    "bdata": "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",
                    "dtype": "f8"
                  },
                  "yaxis": "y"
                },
                {
                  "hovertemplate": "<b>OLS trendline</b><br>gross income = 0.05 * cogs + -1.08247e-15<br>R<sup>2</sup>=1.000000<br><br>cogs=%{x}<br>gross income=%{y} <b>(trend)</b><extra></extra>",
                  "legendgroup": "",
                  "marker": {
                    "color": "#000001",
                    "symbol": "circle"
                  },
                  "mode": "lines",
                  "name": "",
                  "showlegend": false,
                  "type": "scatter",
                  "x": {
                    "bdata": "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",
                    "dtype": "f8"
                  },
                  "xaxis": "x",
                  "y": {
                    "bdata": "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",
                    "dtype": "f8"
                  },
                  "yaxis": "y"
                }
              ],
              "layout": {
                "legend": {
                  "tracegroupgap": 0
                },
                "template": {
                  "data": {
                    "candlestick": [
                      {
                        "decreasing": {
                          "line": {
                            "color": "#000033"
                          }
                        },
                        "increasing": {
                          "line": {
                            "color": "#000032"
                          }
                        },
                        "type": "candlestick"
                      }
                    ],
                    "contour": [
                      {
                        "colorscale": [
                          [
                            0,
                            "#000011"
                          ],
                          [
                            0.1111111111111111,
                            "#000012"
                          ],
                          [
                            0.2222222222222222,
                            "#000013"
                          ],
                          [
                            0.3333333333333333,
                            "#000014"
                          ],
                          [
                            0.4444444444444444,
                            "#000015"
                          ],
                          [
                            0.5555555555555556,
                            "#000016"
                          ],
                          [
                            0.6666666666666666,
                            "#000017"
                          ],
                          [
                            0.7777777777777778,
                            "#000018"
                          ],
                          [
                            0.8888888888888888,
                            "#000019"
                          ],
                          [
                            1,
                            "#000020"
                          ]
                        ],
                        "type": "contour"
                      }
                    ],
                    "contourcarpet": [
                      {
                        "colorscale": [
                          [
                            0,
                            "#000011"
                          ],
                          [
                            0.1111111111111111,
                            "#000012"
                          ],
                          [
                            0.2222222222222222,
                            "#000013"
                          ],
                          [
                            0.3333333333333333,
                            "#000014"
                          ],
                          [
                            0.4444444444444444,
                            "#000015"
                          ],
                          [
                            0.5555555555555556,
                            "#000016"
                          ],
                          [
                            0.6666666666666666,
                            "#000017"
                          ],
                          [
                            0.7777777777777778,
                            "#000018"
                          ],
                          [
                            0.8888888888888888,
                            "#000019"
                          ],
                          [
                            1,
                            "#000020"
                          ]
                        ],
                        "type": "contourcarpet"
                      }
                    ],
                    "heatmap": [
                      {
                        "colorscale": [
                          [
                            0,
                            "#000011"
                          ],
                          [
                            0.1111111111111111,
                            "#000012"
                          ],
                          [
                            0.2222222222222222,
                            "#000013"
                          ],
                          [
                            0.3333333333333333,
                            "#000014"
                          ],
                          [
                            0.4444444444444444,
                            "#000015"
                          ],
                          [
                            0.5555555555555556,
                            "#000016"
                          ],
                          [
                            0.6666666666666666,
                            "#000017"
                          ],
                          [
                            0.7777777777777778,
                            "#000018"
                          ],
                          [
                            0.8888888888888888,
                            "#000019"
                          ],
                          [
                            1,
                            "#000020"
                          ]
                        ],
                        "type": "heatmap"
                      }
                    ],
                    "histogram2d": [
                      {
                        "colorscale": [
                          [
                            0,
                            "#000011"
                          ],
                          [
                            0.1111111111111111,
                            "#000012"
                          ],
                          [
                            0.2222222222222222,
                            "#000013"
                          ],
                          [
                            0.3333333333333333,
                            "#000014"
                          ],
                          [
                            0.4444444444444444,
                            "#000015"
                          ],
                          [
                            0.5555555555555556,
                            "#000016"
                          ],
                          [
                            0.6666666666666666,
                            "#000017"
                          ],
                          [
                            0.7777777777777778,
                            "#000018"
                          ],
                          [
                            0.8888888888888888,
                            "#000019"
                          ],
                          [
                            1,
                            "#000020"
                          ]
                        ],
                        "type": "histogram2d"
                      }
                    ],
                    "icicle": [
                      {
                        "textfont": {
                          "color": "white"
                        },
                        "type": "icicle"
                      }
                    ],
                    "sankey": [
                      {
                        "textfont": {
                          "color": "#000036"
                        },
                        "type": "sankey"
                      }
                    ],
                    "scatter": [
                      {
                        "marker": {
                          "line": {
                            "width": 0
                          }
                        },
                        "type": "scatter"
                      }
                    ],
                    "table": [
                      {
                        "cells": {
                          "fill": {
                            "color": "#000038"
                          },
                          "font": {
                            "color": "#000037"
                          },
                          "line": {
                            "color": "#000039"
                          }
                        },
                        "header": {
                          "fill": {
                            "color": "#000040"
                          },
                          "font": {
                            "color": "#000036"
                          },
                          "line": {
                            "color": "#000039"
                          }
                        },
                        "type": "table"
                      }
                    ],
                    "waterfall": [
                      {
                        "connector": {
                          "line": {
                            "color": "#000036",
                            "width": 2
                          }
                        },
                        "decreasing": {
                          "marker": {
                            "color": "#000033"
                          }
                        },
                        "increasing": {
                          "marker": {
                            "color": "#000032"
                          }
                        },
                        "totals": {
                          "marker": {
                            "color": "#000034"
                          }
                        },
                        "type": "waterfall"
                      }
                    ]
                  },
                  "layout": {
                    "coloraxis": {
                      "colorscale": [
                        [
                          0,
                          "#000011"
                        ],
                        [
                          0.1111111111111111,
                          "#000012"
                        ],
                        [
                          0.2222222222222222,
                          "#000013"
                        ],
                        [
                          0.3333333333333333,
                          "#000014"
                        ],
                        [
                          0.4444444444444444,
                          "#000015"
                        ],
                        [
                          0.5555555555555556,
                          "#000016"
                        ],
                        [
                          0.6666666666666666,
                          "#000017"
                        ],
                        [
                          0.7777777777777778,
                          "#000018"
                        ],
                        [
                          0.8888888888888888,
                          "#000019"
                        ],
                        [
                          1,
                          "#000020"
                        ]
                      ]
                    },
                    "colorscale": {
                      "diverging": [
                        [
                          0,
                          "#000021"
                        ],
                        [
                          0.1,
                          "#000022"
                        ],
                        [
                          0.2,
                          "#000023"
                        ],
                        [
                          0.3,
                          "#000024"
                        ],
                        [
                          0.4,
                          "#000025"
                        ],
                        [
                          0.5,
                          "#000026"
                        ],
                        [
                          0.6,
                          "#000027"
                        ],
                        [
                          0.7,
                          "#000028"
                        ],
                        [
                          0.8,
                          "#000029"
                        ],
                        [
                          0.9,
                          "#000030"
                        ],
                        [
                          1,
                          "#000031"
                        ]
                      ],
                      "sequential": [
                        [
                          0,
                          "#000011"
                        ],
                        [
                          0.1111111111111111,
                          "#000012"
                        ],
                        [
                          0.2222222222222222,
                          "#000013"
                        ],
                        [
                          0.3333333333333333,
                          "#000014"
                        ],
                        [
                          0.4444444444444444,
                          "#000015"
                        ],
                        [
                          0.5555555555555556,
                          "#000016"
                        ],
                        [
                          0.6666666666666666,
                          "#000017"
                        ],
                        [
                          0.7777777777777778,
                          "#000018"
                        ],
                        [
                          0.8888888888888888,
                          "#000019"
                        ],
                        [
                          1,
                          "#000020"
                        ]
                      ],
                      "sequentialminus": [
                        [
                          0,
                          "#000011"
                        ],
                        [
                          0.1111111111111111,
                          "#000012"
                        ],
                        [
                          0.2222222222222222,
                          "#000013"
                        ],
                        [
                          0.3333333333333333,
                          "#000014"
                        ],
                        [
                          0.4444444444444444,
                          "#000015"
                        ],
                        [
                          0.5555555555555556,
                          "#000016"
                        ],
                        [
                          0.6666666666666666,
                          "#000017"
                        ],
                        [
                          0.7777777777777778,
                          "#000018"
                        ],
                        [
                          0.8888888888888888,
                          "#000019"
                        ],
                        [
                          1,
                          "#000020"
                        ]
                      ]
                    },
                    "colorway": [
                      "#000001",
                      "#000002",
                      "#000003",
                      "#000004",
                      "#000005",
                      "#000006",
                      "#000007",
                      "#000008",
                      "#000009",
                      "#000010"
                    ]
                  }
                },
                "title": {
                  "text": "Relación entre Costo y Ganancia Bruta"
                },
                "xaxis": {
                  "anchor": "y",
                  "domain": [
                    0,
                    1
                  ],
                  "title": {
                    "text": "cogs"
                  }
                },
                "yaxis": {
                  "anchor": "x",
                  "domain": [
                    0,
                    1
                  ],
                  "title": {
                    "text": "gross income"
                  }
                }
              }
            }
          },
          "metadata": {},
          "output_type": "display_data"
        }
      ],
      "source": [
        "# 5. Relación entre Costo y Ganancia Bruta\n",
        "fig = px.scatter(df, x='cogs', y='gross income', title='Relación entre Costo y Ganancia Bruta', trendline='ols')\n",
        "fig.show()"
      ]
    },
    {
      "cell_type": "code",
      "execution_count": 3,
      "id": "rbZF2Tyi06rG",
      "metadata": {
        "id": "rbZF2Tyi06rG"
      },
      "outputs": [
        {
          "data": {
            "application/vnd.plotly.v1+json": {
              "config": {
                "plotlyServerURL": "https://plot.ly"
              },
              "data": [
                {
                  "domain": {
                    "x": [
                      0,
                      1
                    ],
                    "y": [
                      0,
                      1
                    ]
                  },
                  "hovertemplate": "Payment Method=%{label}<br>Count=%{value}<extra></extra>",
                  "labels": [
                    "Ewallet",
                    "Cash",
                    "Credit card"
                  ],
                  "legendgroup": "",
                  "name": "",
                  "showlegend": true,
                  "type": "pie",
                  "values": {
                    "bdata": "WQFYATcB",
                    "dtype": "i2"
                  }
                }
              ],
              "layout": {
                "legend": {
                  "tracegroupgap": 0
                },
                "template": {
                  "data": {
                    "candlestick": [
                      {
                        "decreasing": {
                          "line": {
                            "color": "#000033"
                          }
                        },
                        "increasing": {
                          "line": {
                            "color": "#000032"
                          }
                        },
                        "type": "candlestick"
                      }
                    ],
                    "contour": [
                      {
                        "colorscale": [
                          [
                            0,
                            "#000011"
                          ],
                          [
                            0.1111111111111111,
                            "#000012"
                          ],
                          [
                            0.2222222222222222,
                            "#000013"
                          ],
                          [
                            0.3333333333333333,
                            "#000014"
                          ],
                          [
                            0.4444444444444444,
                            "#000015"
                          ],
                          [
                            0.5555555555555556,
                            "#000016"
                          ],
                          [
                            0.6666666666666666,
                            "#000017"
                          ],
                          [
                            0.7777777777777778,
                            "#000018"
                          ],
                          [
                            0.8888888888888888,
                            "#000019"
                          ],
                          [
                            1,
                            "#000020"
                          ]
                        ],
                        "type": "contour"
                      }
                    ],
                    "contourcarpet": [
                      {
                        "colorscale": [
                          [
                            0,
                            "#000011"
                          ],
                          [
                            0.1111111111111111,
                            "#000012"
                          ],
                          [
                            0.2222222222222222,
                            "#000013"
                          ],
                          [
                            0.3333333333333333,
                            "#000014"
                          ],
                          [
                            0.4444444444444444,
                            "#000015"
                          ],
                          [
                            0.5555555555555556,
                            "#000016"
                          ],
                          [
                            0.6666666666666666,
                            "#000017"
                          ],
                          [
                            0.7777777777777778,
                            "#000018"
                          ],
                          [
                            0.8888888888888888,
                            "#000019"
                          ],
                          [
                            1,
                            "#000020"
                          ]
                        ],
                        "type": "contourcarpet"
                      }
                    ],
                    "heatmap": [
                      {
                        "colorscale": [
                          [
                            0,
                            "#000011"
                          ],
                          [
                            0.1111111111111111,
                            "#000012"
                          ],
                          [
                            0.2222222222222222,
                            "#000013"
                          ],
                          [
                            0.3333333333333333,
                            "#000014"
                          ],
                          [
                            0.4444444444444444,
                            "#000015"
                          ],
                          [
                            0.5555555555555556,
                            "#000016"
                          ],
                          [
                            0.6666666666666666,
                            "#000017"
                          ],
                          [
                            0.7777777777777778,
                            "#000018"
                          ],
                          [
                            0.8888888888888888,
                            "#000019"
                          ],
                          [
                            1,
                            "#000020"
                          ]
                        ],
                        "type": "heatmap"
                      }
                    ],
                    "histogram2d": [
                      {
                        "colorscale": [
                          [
                            0,
                            "#000011"
                          ],
                          [
                            0.1111111111111111,
                            "#000012"
                          ],
                          [
                            0.2222222222222222,
                            "#000013"
                          ],
                          [
                            0.3333333333333333,
                            "#000014"
                          ],
                          [
                            0.4444444444444444,
                            "#000015"
                          ],
                          [
                            0.5555555555555556,
                            "#000016"
                          ],
                          [
                            0.6666666666666666,
                            "#000017"
                          ],
                          [
                            0.7777777777777778,
                            "#000018"
                          ],
                          [
                            0.8888888888888888,
                            "#000019"
                          ],
                          [
                            1,
                            "#000020"
                          ]
                        ],
                        "type": "histogram2d"
                      }
                    ],
                    "icicle": [
                      {
                        "textfont": {
                          "color": "white"
                        },
                        "type": "icicle"
                      }
                    ],
                    "sankey": [
                      {
                        "textfont": {
                          "color": "#000036"
                        },
                        "type": "sankey"
                      }
                    ],
                    "scatter": [
                      {
                        "marker": {
                          "line": {
                            "width": 0
                          }
                        },
                        "type": "scatter"
                      }
                    ],
                    "table": [
                      {
                        "cells": {
                          "fill": {
                            "color": "#000038"
                          },
                          "font": {
                            "color": "#000037"
                          },
                          "line": {
                            "color": "#000039"
                          }
                        },
                        "header": {
                          "fill": {
                            "color": "#000040"
                          },
                          "font": {
                            "color": "#000036"
                          },
                          "line": {
                            "color": "#000039"
                          }
                        },
                        "type": "table"
                      }
                    ],
                    "waterfall": [
                      {
                        "connector": {
                          "line": {
                            "color": "#000036",
                            "width": 2
                          }
                        },
                        "decreasing": {
                          "marker": {
                            "color": "#000033"
                          }
                        },
                        "increasing": {
                          "marker": {
                            "color": "#000032"
                          }
                        },
                        "totals": {
                          "marker": {
                            "color": "#000034"
                          }
                        },
                        "type": "waterfall"
                      }
                    ]
                  },
                  "layout": {
                    "coloraxis": {
                      "colorscale": [
                        [
                          0,
                          "#000011"
                        ],
                        [
                          0.1111111111111111,
                          "#000012"
                        ],
                        [
                          0.2222222222222222,
                          "#000013"
                        ],
                        [
                          0.3333333333333333,
                          "#000014"
                        ],
                        [
                          0.4444444444444444,
                          "#000015"
                        ],
                        [
                          0.5555555555555556,
                          "#000016"
                        ],
                        [
                          0.6666666666666666,
                          "#000017"
                        ],
                        [
                          0.7777777777777778,
                          "#000018"
                        ],
                        [
                          0.8888888888888888,
                          "#000019"
                        ],
                        [
                          1,
                          "#000020"
                        ]
                      ]
                    },
                    "colorscale": {
                      "diverging": [
                        [
                          0,
                          "#000021"
                        ],
                        [
                          0.1,
                          "#000022"
                        ],
                        [
                          0.2,
                          "#000023"
                        ],
                        [
                          0.3,
                          "#000024"
                        ],
                        [
                          0.4,
                          "#000025"
                        ],
                        [
                          0.5,
                          "#000026"
                        ],
                        [
                          0.6,
                          "#000027"
                        ],
                        [
                          0.7,
                          "#000028"
                        ],
                        [
                          0.8,
                          "#000029"
                        ],
                        [
                          0.9,
                          "#000030"
                        ],
                        [
                          1,
                          "#000031"
                        ]
                      ],
                      "sequential": [
                        [
                          0,
                          "#000011"
                        ],
                        [
                          0.1111111111111111,
                          "#000012"
                        ],
                        [
                          0.2222222222222222,
                          "#000013"
                        ],
                        [
                          0.3333333333333333,
                          "#000014"
                        ],
                        [
                          0.4444444444444444,
                          "#000015"
                        ],
                        [
                          0.5555555555555556,
                          "#000016"
                        ],
                        [
                          0.6666666666666666,
                          "#000017"
                        ],
                        [
                          0.7777777777777778,
                          "#000018"
                        ],
                        [
                          0.8888888888888888,
                          "#000019"
                        ],
                        [
                          1,
                          "#000020"
                        ]
                      ],
                      "sequentialminus": [
                        [
                          0,
                          "#000011"
                        ],
                        [
                          0.1111111111111111,
                          "#000012"
                        ],
                        [
                          0.2222222222222222,
                          "#000013"
                        ],
                        [
                          0.3333333333333333,
                          "#000014"
                        ],
                        [
                          0.4444444444444444,
                          "#000015"
                        ],
                        [
                          0.5555555555555556,
                          "#000016"
                        ],
                        [
                          0.6666666666666666,
                          "#000017"
                        ],
                        [
                          0.7777777777777778,
                          "#000018"
                        ],
                        [
                          0.8888888888888888,
                          "#000019"
                        ],
                        [
                          1,
                          "#000020"
                        ]
                      ]
                    },
                    "colorway": [
                      "#000001",
                      "#000002",
                      "#000003",
                      "#000004",
                      "#000005",
                      "#000006",
                      "#000007",
                      "#000008",
                      "#000009",
                      "#000010"
                    ]
                  }
                },
                "title": {
                  "text": "Métodos de Pago Preferidos"
                }
              }
            }
          },
          "metadata": {},
          "output_type": "display_data"
        }
      ],
      "source": [
        "# 6. Métodos de Pago Preferidos\n",
        "payment_counts = df['Payment'].value_counts().reset_index()\n",
        "payment_counts.columns = ['Payment Method', 'Count']\n",
        "fig = px.pie(payment_counts, values='Count', names='Payment Method', title='Métodos de Pago Preferidos')\n",
        "fig.show()"
      ]
    },
    {
      "cell_type": "code",
      "execution_count": 4,
      "id": "17sa_f4806S2",
      "metadata": {
        "id": "17sa_f4806S2"
      },
      "outputs": [
        {
          "data": {
            "application/vnd.plotly.v1+json": {
              "config": {
                "plotlyServerURL": "https://plot.ly"
              },
              "data": [
                {
                  "coloraxis": "coloraxis",
                  "hovertemplate": "x: %{x}<br>y: %{y}<br>color: %{z}<extra></extra>",
                  "name": "0",
                  "texttemplate": "%{z}",
                  "type": "heatmap",
                  "x": [
                    "Unit price",
                    "Quantity",
                    "Tax 5%",
                    "Total",
                    "cogs",
                    "gross income",
                    "Rating"
                  ],
                  "xaxis": "x",
                  "y": [
                    "Unit price",
                    "Quantity",
                    "Tax 5%",
                    "Total",
                    "cogs",
                    "gross income",
                    "Rating"
                  ],
                  "yaxis": "y",
                  "z": {
                    "bdata": "AAAAAAAA8D8WcA0zjBKGP9+arNxqSeQ/4Jqs3GpJ5D/YmqzcaknkP9+arNxqSeQ/7ibxEvH5gb8WcA0zjBKGPwAAAAAAAPA/YeLzGIqT5j9T4vMYipPmP0fi8xiKk+Y/YeLzGIqT5j9e9KZIyDGQv9+arNxqSeQ/YeLzGIqT5j8AAAAAAADwP/b//////+8/+P//////7z8AAAAAAADwP7loWLZ8qKK/4Jqs3GpJ5D9T4vMYipPmP/b//////+8/AAAAAAAA8D/y///////vP/b//////+8/wGhYtnyoor/YmqzcaknkP0fi8xiKk+Y/+P//////7z/y///////vPwAAAAAAAPA/9///////7z+2aFi2fKiiv9+arNxqSeQ/YeLzGIqT5j8AAAAAAADwP/b//////+8/9///////7z8AAAAAAADwP7loWLZ8qKK/7ibxEvH5gb9e9KZIyDGQv7loWLZ8qKK/wGhYtnyoor+2aFi2fKiiv7loWLZ8qKK/AAAAAAAA8D8=",
                    "dtype": "f8",
                    "shape": "7, 7"
                  }
                }
              ],
              "layout": {
                "coloraxis": {
                  "colorscale": [
                    [
                      0,
                      "#000011"
                    ],
                    [
                      0.1111111111111111,
                      "#000012"
                    ],
                    [
                      0.2222222222222222,
                      "#000013"
                    ],
                    [
                      0.3333333333333333,
                      "#000014"
                    ],
                    [
                      0.4444444444444444,
                      "#000015"
                    ],
                    [
                      0.5555555555555556,
                      "#000016"
                    ],
                    [
                      0.6666666666666666,
                      "#000017"
                    ],
                    [
                      0.7777777777777778,
                      "#000018"
                    ],
                    [
                      0.8888888888888888,
                      "#000019"
                    ],
                    [
                      1,
                      "#000020"
                    ]
                  ]
                },
                "template": {
                  "data": {
                    "candlestick": [
                      {
                        "decreasing": {
                          "line": {
                            "color": "#000033"
                          }
                        },
                        "increasing": {
                          "line": {
                            "color": "#000032"
                          }
                        },
                        "type": "candlestick"
                      }
                    ],
                    "contour": [
                      {
                        "colorscale": [
                          [
                            0,
                            "#000011"
                          ],
                          [
                            0.1111111111111111,
                            "#000012"
                          ],
                          [
                            0.2222222222222222,
                            "#000013"
                          ],
                          [
                            0.3333333333333333,
                            "#000014"
                          ],
                          [
                            0.4444444444444444,
                            "#000015"
                          ],
                          [
                            0.5555555555555556,
                            "#000016"
                          ],
                          [
                            0.6666666666666666,
                            "#000017"
                          ],
                          [
                            0.7777777777777778,
                            "#000018"
                          ],
                          [
                            0.8888888888888888,
                            "#000019"
                          ],
                          [
                            1,
                            "#000020"
                          ]
                        ],
                        "type": "contour"
                      }
                    ],
                    "contourcarpet": [
                      {
                        "colorscale": [
                          [
                            0,
                            "#000011"
                          ],
                          [
                            0.1111111111111111,
                            "#000012"
                          ],
                          [
                            0.2222222222222222,
                            "#000013"
                          ],
                          [
                            0.3333333333333333,
                            "#000014"
                          ],
                          [
                            0.4444444444444444,
                            "#000015"
                          ],
                          [
                            0.5555555555555556,
                            "#000016"
                          ],
                          [
                            0.6666666666666666,
                            "#000017"
                          ],
                          [
                            0.7777777777777778,
                            "#000018"
                          ],
                          [
                            0.8888888888888888,
                            "#000019"
                          ],
                          [
                            1,
                            "#000020"
                          ]
                        ],
                        "type": "contourcarpet"
                      }
                    ],
                    "heatmap": [
                      {
                        "colorscale": [
                          [
                            0,
                            "#000011"
                          ],
                          [
                            0.1111111111111111,
                            "#000012"
                          ],
                          [
                            0.2222222222222222,
                            "#000013"
                          ],
                          [
                            0.3333333333333333,
                            "#000014"
                          ],
                          [
                            0.4444444444444444,
                            "#000015"
                          ],
                          [
                            0.5555555555555556,
                            "#000016"
                          ],
                          [
                            0.6666666666666666,
                            "#000017"
                          ],
                          [
                            0.7777777777777778,
                            "#000018"
                          ],
                          [
                            0.8888888888888888,
                            "#000019"
                          ],
                          [
                            1,
                            "#000020"
                          ]
                        ],
                        "type": "heatmap"
                      }
                    ],
                    "histogram2d": [
                      {
                        "colorscale": [
                          [
                            0,
                            "#000011"
                          ],
                          [
                            0.1111111111111111,
                            "#000012"
                          ],
                          [
                            0.2222222222222222,
                            "#000013"
                          ],
                          [
                            0.3333333333333333,
                            "#000014"
                          ],
                          [
                            0.4444444444444444,
                            "#000015"
                          ],
                          [
                            0.5555555555555556,
                            "#000016"
                          ],
                          [
                            0.6666666666666666,
                            "#000017"
                          ],
                          [
                            0.7777777777777778,
                            "#000018"
                          ],
                          [
                            0.8888888888888888,
                            "#000019"
                          ],
                          [
                            1,
                            "#000020"
                          ]
                        ],
                        "type": "histogram2d"
                      }
                    ],
                    "icicle": [
                      {
                        "textfont": {
                          "color": "white"
                        },
                        "type": "icicle"
                      }
                    ],
                    "sankey": [
                      {
                        "textfont": {
                          "color": "#000036"
                        },
                        "type": "sankey"
                      }
                    ],
                    "scatter": [
                      {
                        "marker": {
                          "line": {
                            "width": 0
                          }
                        },
                        "type": "scatter"
                      }
                    ],
                    "table": [
                      {
                        "cells": {
                          "fill": {
                            "color": "#000038"
                          },
                          "font": {
                            "color": "#000037"
                          },
                          "line": {
                            "color": "#000039"
                          }
                        },
                        "header": {
                          "fill": {
                            "color": "#000040"
                          },
                          "font": {
                            "color": "#000036"
                          },
                          "line": {
                            "color": "#000039"
                          }
                        },
                        "type": "table"
                      }
                    ],
                    "waterfall": [
                      {
                        "connector": {
                          "line": {
                            "color": "#000036",
                            "width": 2
                          }
                        },
                        "decreasing": {
                          "marker": {
                            "color": "#000033"
                          }
                        },
                        "increasing": {
                          "marker": {
                            "color": "#000032"
                          }
                        },
                        "totals": {
                          "marker": {
                            "color": "#000034"
                          }
                        },
                        "type": "waterfall"
                      }
                    ]
                  },
                  "layout": {
                    "coloraxis": {
                      "colorscale": [
                        [
                          0,
                          "#000011"
                        ],
                        [
                          0.1111111111111111,
                          "#000012"
                        ],
                        [
                          0.2222222222222222,
                          "#000013"
                        ],
                        [
                          0.3333333333333333,
                          "#000014"
                        ],
                        [
                          0.4444444444444444,
                          "#000015"
                        ],
                        [
                          0.5555555555555556,
                          "#000016"
                        ],
                        [
                          0.6666666666666666,
                          "#000017"
                        ],
                        [
                          0.7777777777777778,
                          "#000018"
                        ],
                        [
                          0.8888888888888888,
                          "#000019"
                        ],
                        [
                          1,
                          "#000020"
                        ]
                      ]
                    },
                    "colorscale": {
                      "diverging": [
                        [
                          0,
                          "#000021"
                        ],
                        [
                          0.1,
                          "#000022"
                        ],
                        [
                          0.2,
                          "#000023"
                        ],
                        [
                          0.3,
                          "#000024"
                        ],
                        [
                          0.4,
                          "#000025"
                        ],
                        [
                          0.5,
                          "#000026"
                        ],
                        [
                          0.6,
                          "#000027"
                        ],
                        [
                          0.7,
                          "#000028"
                        ],
                        [
                          0.8,
                          "#000029"
                        ],
                        [
                          0.9,
                          "#000030"
                        ],
                        [
                          1,
                          "#000031"
                        ]
                      ],
                      "sequential": [
                        [
                          0,
                          "#000011"
                        ],
                        [
                          0.1111111111111111,
                          "#000012"
                        ],
                        [
                          0.2222222222222222,
                          "#000013"
                        ],
                        [
                          0.3333333333333333,
                          "#000014"
                        ],
                        [
                          0.4444444444444444,
                          "#000015"
                        ],
                        [
                          0.5555555555555556,
                          "#000016"
                        ],
                        [
                          0.6666666666666666,
                          "#000017"
                        ],
                        [
                          0.7777777777777778,
                          "#000018"
                        ],
                        [
                          0.8888888888888888,
                          "#000019"
                        ],
                        [
                          1,
                          "#000020"
                        ]
                      ],
                      "sequentialminus": [
                        [
                          0,
                          "#000011"
                        ],
                        [
                          0.1111111111111111,
                          "#000012"
                        ],
                        [
                          0.2222222222222222,
                          "#000013"
                        ],
                        [
                          0.3333333333333333,
                          "#000014"
                        ],
                        [
                          0.4444444444444444,
                          "#000015"
                        ],
                        [
                          0.5555555555555556,
                          "#000016"
                        ],
                        [
                          0.6666666666666666,
                          "#000017"
                        ],
                        [
                          0.7777777777777778,
                          "#000018"
                        ],
                        [
                          0.8888888888888888,
                          "#000019"
                        ],
                        [
                          1,
                          "#000020"
                        ]
                      ]
                    },
                    "colorway": [
                      "#000001",
                      "#000002",
                      "#000003",
                      "#000004",
                      "#000005",
                      "#000006",
                      "#000007",
                      "#000008",
                      "#000009",
                      "#000010"
                    ]
                  }
                },
                "title": {
                  "text": "Matriz de Correlación de Variables Numéricas"
                },
                "xaxis": {
                  "anchor": "y",
                  "constrain": "domain",
                  "domain": [
                    0,
                    1
                  ],
                  "scaleanchor": "y"
                },
                "yaxis": {
                  "anchor": "x",
                  "autorange": "reversed",
                  "constrain": "domain",
                  "domain": [
                    0,
                    1
                  ]
                }
              }
            }
          },
          "metadata": {},
          "output_type": "display_data"
        }
      ],
      "source": [
        "# 7. Análisis de Correlación Numérica\n",
        "numeric_cols = ['Unit price', 'Quantity', 'Tax 5%', 'Total', 'cogs', 'gross income', 'Rating']\n",
        "correlation_matrix = df[numeric_cols].corr()\n",
        "fig = px.imshow(correlation_matrix, text_auto=True, title='Matriz de Correlación de Variables Numéricas')\n",
        "fig.show()"
      ]
    },
    {
      "cell_type": "code",
      "execution_count": 5,
      "id": "5i7xNkxu1Y-R",
      "metadata": {
        "id": "5i7xNkxu1Y-R"
      },
      "outputs": [
        {
          "data": {
            "application/vnd.plotly.v1+json": {
              "config": {
                "plotlyServerURL": "https://plot.ly"
              },
              "data": [
                {
                  "branchvalues": "total",
                  "domain": {
                    "x": [
                      0,
                      1
                    ],
                    "y": [
                      0,
                      1
                    ]
                  },
                  "hovertemplate": "labels=%{label}<br>gross income=%{value}<br>parent=%{parent}<br>id=%{id}<extra></extra>",
                  "ids": [
                    "A/Electronic accessories",
                    "A/Fashion accessories",
                    "A/Food and beverages",
                    "A/Health and beauty",
                    "A/Home and lifestyle",
                    "A/Sports and travel",
                    "B/Electronic accessories",
                    "B/Fashion accessories",
                    "B/Food and beverages",
                    "B/Health and beauty",
                    "B/Home and lifestyle",
                    "B/Sports and travel",
                    "C/Electronic accessories",
                    "C/Fashion accessories",
                    "C/Food and beverages",
                    "C/Health and beauty",
                    "C/Home and lifestyle",
                    "C/Sports and travel",
                    "A",
                    "B",
                    "C"
                  ],
                  "labels": [
                    "Electronic accessories",
                    "Fashion accessories",
                    "Food and beverages",
                    "Health and beauty",
                    "Home and lifestyle",
                    "Sports and travel",
                    "Electronic accessories",
                    "Fashion accessories",
                    "Food and beverages",
                    "Health and beauty",
                    "Home and lifestyle",
                    "Sports and travel",
                    "Electronic accessories",
                    "Fashion accessories",
                    "Food and beverages",
                    "Health and beauty",
                    "Home and lifestyle",
                    "Sports and travel",
                    "A",
                    "B",
                    "C"
                  ],
                  "name": "",
                  "parents": [
                    "A",
                    "A",
                    "A",
                    "A",
                    "A",
                    "A",
                    "B",
                    "B",
                    "B",
                    "B",
                    "B",
                    "B",
                    "C",
                    "C",
                    "C",
                    "C",
                    "C",
                    "C",
                    "",
                    "",
                    ""
                  ],
                  "type": "sunburst",
                  "values": {
                    "bdata": "nMQgsPJBi0DFILBy6E2IQOj7qfFSiolAoBov3SS/gkDVeOkm8a2QQH9qvHQT1IxAQDVeuslfiUDVeOkmsWyIQM/3U+MlpIZASOF6FK67jUA3iUFgZR2KQGQ730+Nvo1Asp3vp0Y6jEBI4XoUrgqQQOtRuB4Fr5FAz/dT46W5iEAGgZVDi62EQAaBlUOLdIdAAiuHFinBs0B56SYxCMGzQL6fGi8tkbRA",
                    "dtype": "f8"
                  }
                }
              ],
              "layout": {
                "legend": {
                  "tracegroupgap": 0
                },
                "template": {
                  "data": {
                    "candlestick": [
                      {
                        "decreasing": {
                          "line": {
                            "color": "#000033"
                          }
                        },
                        "increasing": {
                          "line": {
                            "color": "#000032"
                          }
                        },
                        "type": "candlestick"
                      }
                    ],
                    "contour": [
                      {
                        "colorscale": [
                          [
                            0,
                            "#000011"
                          ],
                          [
                            0.1111111111111111,
                            "#000012"
                          ],
                          [
                            0.2222222222222222,
                            "#000013"
                          ],
                          [
                            0.3333333333333333,
                            "#000014"
                          ],
                          [
                            0.4444444444444444,
                            "#000015"
                          ],
                          [
                            0.5555555555555556,
                            "#000016"
                          ],
                          [
                            0.6666666666666666,
                            "#000017"
                          ],
                          [
                            0.7777777777777778,
                            "#000018"
                          ],
                          [
                            0.8888888888888888,
                            "#000019"
                          ],
                          [
                            1,
                            "#000020"
                          ]
                        ],
                        "type": "contour"
                      }
                    ],
                    "contourcarpet": [
                      {
                        "colorscale": [
                          [
                            0,
                            "#000011"
                          ],
                          [
                            0.1111111111111111,
                            "#000012"
                          ],
                          [
                            0.2222222222222222,
                            "#000013"
                          ],
                          [
                            0.3333333333333333,
                            "#000014"
                          ],
                          [
                            0.4444444444444444,
                            "#000015"
                          ],
                          [
                            0.5555555555555556,
                            "#000016"
                          ],
                          [
                            0.6666666666666666,
                            "#000017"
                          ],
                          [
                            0.7777777777777778,
                            "#000018"
                          ],
                          [
                            0.8888888888888888,
                            "#000019"
                          ],
                          [
                            1,
                            "#000020"
                          ]
                        ],
                        "type": "contourcarpet"
                      }
                    ],
                    "heatmap": [
                      {
                        "colorscale": [
                          [
                            0,
                            "#000011"
                          ],
                          [
                            0.1111111111111111,
                            "#000012"
                          ],
                          [
                            0.2222222222222222,
                            "#000013"
                          ],
                          [
                            0.3333333333333333,
                            "#000014"
                          ],
                          [
                            0.4444444444444444,
                            "#000015"
                          ],
                          [
                            0.5555555555555556,
                            "#000016"
                          ],
                          [
                            0.6666666666666666,
                            "#000017"
                          ],
                          [
                            0.7777777777777778,
                            "#000018"
                          ],
                          [
                            0.8888888888888888,
                            "#000019"
                          ],
                          [
                            1,
                            "#000020"
                          ]
                        ],
                        "type": "heatmap"
                      }
                    ],
                    "histogram2d": [
                      {
                        "colorscale": [
                          [
                            0,
                            "#000011"
                          ],
                          [
                            0.1111111111111111,
                            "#000012"
                          ],
                          [
                            0.2222222222222222,
                            "#000013"
                          ],
                          [
                            0.3333333333333333,
                            "#000014"
                          ],
                          [
                            0.4444444444444444,
                            "#000015"
                          ],
                          [
                            0.5555555555555556,
                            "#000016"
                          ],
                          [
                            0.6666666666666666,
                            "#000017"
                          ],
                          [
                            0.7777777777777778,
                            "#000018"
                          ],
                          [
                            0.8888888888888888,
                            "#000019"
                          ],
                          [
                            1,
                            "#000020"
                          ]
                        ],
                        "type": "histogram2d"
                      }
                    ],
                    "icicle": [
                      {
                        "textfont": {
                          "color": "white"
                        },
                        "type": "icicle"
                      }
                    ],
                    "sankey": [
                      {
                        "textfont": {
                          "color": "#000036"
                        },
                        "type": "sankey"
                      }
                    ],
                    "scatter": [
                      {
                        "marker": {
                          "line": {
                            "width": 0
                          }
                        },
                        "type": "scatter"
                      }
                    ],
                    "table": [
                      {
                        "cells": {
                          "fill": {
                            "color": "#000038"
                          },
                          "font": {
                            "color": "#000037"
                          },
                          "line": {
                            "color": "#000039"
                          }
                        },
                        "header": {
                          "fill": {
                            "color": "#000040"
                          },
                          "font": {
                            "color": "#000036"
                          },
                          "line": {
                            "color": "#000039"
                          }
                        },
                        "type": "table"
                      }
                    ],
                    "waterfall": [
                      {
                        "connector": {
                          "line": {
                            "color": "#000036",
                            "width": 2
                          }
                        },
                        "decreasing": {
                          "marker": {
                            "color": "#000033"
                          }
                        },
                        "increasing": {
                          "marker": {
                            "color": "#000032"
                          }
                        },
                        "totals": {
                          "marker": {
                            "color": "#000034"
                          }
                        },
                        "type": "waterfall"
                      }
                    ]
                  },
                  "layout": {
                    "coloraxis": {
                      "colorscale": [
                        [
                          0,
                          "#000011"
                        ],
                        [
                          0.1111111111111111,
                          "#000012"
                        ],
                        [
                          0.2222222222222222,
                          "#000013"
                        ],
                        [
                          0.3333333333333333,
                          "#000014"
                        ],
                        [
                          0.4444444444444444,
                          "#000015"
                        ],
                        [
                          0.5555555555555556,
                          "#000016"
                        ],
                        [
                          0.6666666666666666,
                          "#000017"
                        ],
                        [
                          0.7777777777777778,
                          "#000018"
                        ],
                        [
                          0.8888888888888888,
                          "#000019"
                        ],
                        [
                          1,
                          "#000020"
                        ]
                      ]
                    },
                    "colorscale": {
                      "diverging": [
                        [
                          0,
                          "#000021"
                        ],
                        [
                          0.1,
                          "#000022"
                        ],
                        [
                          0.2,
                          "#000023"
                        ],
                        [
                          0.3,
                          "#000024"
                        ],
                        [
                          0.4,
                          "#000025"
                        ],
                        [
                          0.5,
                          "#000026"
                        ],
                        [
                          0.6,
                          "#000027"
                        ],
                        [
                          0.7,
                          "#000028"
                        ],
                        [
                          0.8,
                          "#000029"
                        ],
                        [
                          0.9,
                          "#000030"
                        ],
                        [
                          1,
                          "#000031"
                        ]
                      ],
                      "sequential": [
                        [
                          0,
                          "#000011"
                        ],
                        [
                          0.1111111111111111,
                          "#000012"
                        ],
                        [
                          0.2222222222222222,
                          "#000013"
                        ],
                        [
                          0.3333333333333333,
                          "#000014"
                        ],
                        [
                          0.4444444444444444,
                          "#000015"
                        ],
                        [
                          0.5555555555555556,
                          "#000016"
                        ],
                        [
                          0.6666666666666666,
                          "#000017"
                        ],
                        [
                          0.7777777777777778,
                          "#000018"
                        ],
                        [
                          0.8888888888888888,
                          "#000019"
                        ],
                        [
                          1,
                          "#000020"
                        ]
                      ],
                      "sequentialminus": [
                        [
                          0,
                          "#000011"
                        ],
                        [
                          0.1111111111111111,
                          "#000012"
                        ],
                        [
                          0.2222222222222222,
                          "#000013"
                        ],
                        [
                          0.3333333333333333,
                          "#000014"
                        ],
                        [
                          0.4444444444444444,
                          "#000015"
                        ],
                        [
                          0.5555555555555556,
                          "#000016"
                        ],
                        [
                          0.6666666666666666,
                          "#000017"
                        ],
                        [
                          0.7777777777777778,
                          "#000018"
                        ],
                        [
                          0.8888888888888888,
                          "#000019"
                        ],
                        [
                          1,
                          "#000020"
                        ]
                      ]
                    },
                    "colorway": [
                      "#000001",
                      "#000002",
                      "#000003",
                      "#000004",
                      "#000005",
                      "#000006",
                      "#000007",
                      "#000008",
                      "#000009",
                      "#000010"
                    ]
                  }
                },
                "title": {
                  "text": "Ingreso Bruto por Sucursal y Línea de Producto"
                }
              }
            }
          },
          "metadata": {},
          "output_type": "display_data"
        }
      ],
      "source": [
        "# 8. Composición del Ingreso Bruto por Sucursal y Línea de Producto\n",
        "ingreso_por_sucursal = df.groupby(['Branch', 'Product line'])['gross income'].sum().reset_index()\n",
        "fig = px.sunburst(ingreso_por_sucursal, path=['Branch', 'Product line'], values='gross income',\n",
        "                  title='Ingreso Bruto por Sucursal y Línea de Producto')\n",
        "fig.show()"
      ]
    },
    {
      "cell_type": "markdown",
      "id": "f0293081",
      "metadata": {
        "id": "f0293081"
      },
      "source": [
        "# =============================================\n",
        "# 3. Integración en un Dashboard (Streamlit)\n",
        "# ============================================="
      ]
    },
    {
      "cell_type": "markdown",
      "id": "2e8cc7c8",
      "metadata": {},
      "source": [
        "Nuestro dashboard interactivo desarrollado con Streamlit permite explorar los datos de ventas de una cadena de tiendas de conveniencia desde múltiples ángulos:\n",
        "\n",
        "- **Evolución de las Ventas Totales**: Línea de tiempo que permite visualizar tendencias de venta a lo largo del tiempo.\n",
        "- **Ingresos por Línea de Producto**: Gráfico de barras que muestra qué líneas de producto generan mayores ingresos.\n",
        "- **Gasto por Tipo de Cliente**: Boxplot que compara el gasto de clientes \"Member\" vs \"Normal\".\n",
        "- **Métodos de Pago Preferidos**: Gráfico circular que muestra la frecuencia de uso de cada método de pago.\n",
        "- **KPIs destacados**: Incluimos métricas como ventas totales, ingreso bruto y calificación promedio.\n",
        "- **Filtros interactivos**: El usuario puede seleccionar la sucursal, la línea de producto y el tipo de cliente para ajustar todas las visualizaciones.\n",
        "\n",
        "Estas visualizaciones fueron seleccionadas por su relevancia para responder preguntas de negocio como:\n",
        "- ¿Qué productos venden más?\n",
        "- ¿Qué tipo de cliente gasta más?\n",
        "- ¿Cuál es el método de pago preferido?\n",
        "- ¿Qué sucursales generan más ingreso bruto?\n",
        "\n",
        "La interactividad del dashboard mejora la comprensión de los datos y permite una toma de decisiones más informada por parte del equipo de marketing o dirección.\n"
      ]
    },
    {
      "cell_type": "code",
      "execution_count": null,
      "id": "Vx2b5gSXBWzU",
      "metadata": {
        "id": "Vx2b5gSXBWzU"
      },
      "outputs": [],
      "source": [
        "# Título y descripción inicial\n",
        "st.title(\"Dashboard de Ventas de Tienda de Conveniencia\")\n",
        "st.markdown(\"\"\"\n",
        "Este dashboard presenta las visualizaciones más relevantes para comprender la evolución de las ventas,\n",
        "el comportamiento de los clientes y sus preferencias de pago. Se incluyen filtros para analizar por sucursal,\n",
        "línea de producto y tipo de cliente.\n",
        "\"\"\")\n",
        "\n",
        "# Filtros interactivos\n",
        "st.sidebar.header(\"Filtros\")\n",
        "branch = st.sidebar.multiselect(\"Sucursal\", options=df[\"Branch\"].unique(), default=df[\"Branch\"].unique())\n",
        "product_line = st.sidebar.multiselect(\"Línea de Producto\", options=df[\"Product line\"].unique(), default=df[\"Product line\"].unique())\n",
        "customer_type = st.sidebar.multiselect(\"Tipo de Cliente\", options=df[\"Customer type\"].unique(), default=df[\"Customer type\"].unique())\n",
        "\n",
        "# Aplicar filtros\n",
        "df_filtered = df[\n",
        "    (df[\"Branch\"].isin(branch)) &\n",
        "    (df[\"Product line\"].isin(product_line)) &\n",
        "    (df[\"Customer type\"].isin(customer_type))\n",
        "]\n",
        "\n",
        "# KPIs destacados\n",
        "st.metric(\"Ventas Totales\", f\"${df_filtered['Total'].sum():,.2f}\")\n",
        "st.metric(\"Ingreso Bruto\", f\"${df_filtered['gross income'].sum():,.2f}\")\n",
        "st.metric(\"Promedio de Calificación\", f\"{df_filtered['Rating'].mean():.2f}\")\n",
        "\n",
        "# Visualizaciones\n",
        "st.markdown(\"## 1. Evolución de las Ventas Totales\")\n",
        "ventas_diarias = df_filtered.groupby(\"Date\")[\"Total\"].sum().reset_index()\n",
        "fig1 = px.line(ventas_diarias, x=\"Date\", y=\"Total\", title=\"Evolución de las Ventas Totales\")\n",
        "st.plotly_chart(fig1)\n",
        "\n",
        "st.markdown(\"## 2. Ingresos por Línea de Producto\")\n",
        "ingresos_producto = df_filtered.groupby(\"Product line\")[\"Total\"].sum().reset_index()\n",
        "fig2 = px.bar(ingresos_producto, x=\"Product line\", y=\"Total\", color=\"Product line\", title=\"Ingresos por Línea de Producto\")\n",
        "st.plotly_chart(fig2)\n",
        "\n",
        "st.markdown(\"## 3. Gasto por Tipo de Cliente\")\n",
        "fig3 = px.box(df_filtered, x=\"Customer type\", y=\"Total\", color=\"Customer type\", title=\"Gasto por Tipo de Cliente\")\n",
        "st.plotly_chart(fig3)\n",
        "\n",
        "st.markdown(\"## 4. Métodos de Pago Preferidos\")\n",
        "payment_counts = df_filtered[\"Payment\"].value_counts().reset_index()\n",
        "payment_counts.columns = [\"Payment Method\", \"Count\"]\n",
        "fig4 = px.pie(payment_counts, names=\"Payment Method\", values=\"Count\", title=\"Métodos de Pago Preferidos\")\n",
        "st.plotly_chart(fig4)"
      ]
    },
    {
      "cell_type": "markdown",
      "id": "188dfbb1",
      "metadata": {
        "id": "188dfbb1"
      },
      "source": [
        "#Deployment\n",
        "\n"
      ]
    },
    {
      "cell_type": "code",
      "execution_count": null,
      "id": "6ad2e857",
      "metadata": {
        "id": "6ad2e857"
      },
      "outputs": [],
      "source": []
    },
    {
      "cell_type": "markdown",
      "id": "tUTXI_I9NYcC",
      "metadata": {
        "id": "tUTXI_I9NYcC"
      },
      "source": [
        "#Conclusión"
      ]
    },
    {
      "cell_type": "markdown",
      "id": "d353b1ca",
      "metadata": {
        "id": "d353b1ca"
      },
      "source": [
        "A partir del análisis visual de los datos de ventas, pudimos identificar patrones clave en el comportamiento de los clientes:\n",
        "\n",
        "- Las ventas muestran una evolución estable, sin caídas abruptas.\n",
        "- Ciertas líneas de productos, como \"Food and beverages\" y \"Health and beauty\", generan mayores ingresos, lo que puede orientar campañas promocionales.\n",
        "- Los clientes \"Member\" no necesariamente gastan más que los \"Normal\", lo que podría llevar a replantear la estrategia de fidelización.\n",
        "- El método de pago más utilizado fue [completar con el resultado de la visualización], lo que puede orientar decisiones operativas (por ejemplo, mejorar disponibilidad de POS).\n",
        "- La correlación positiva entre `cogs` y `gross income` es lógica, pero su análisis permite evaluar si ciertos productos generan mayor margen relativo.\n",
        "\n",
        "**Limitaciones**:\n",
        "- El dataset cubre solo tres sucursales y un periodo de tiempo limitado, lo que restringe las conclusiones a corto plazo.\n",
        "- Faltan variables como edad o frecuencia de compra por cliente, lo que limitaría análisis más profundos de segmentación.\n",
        "\n",
        "**Recomendaciones**:\n",
        "- Reforzar las líneas de productos más rentables.\n",
        "- Evaluar la efectividad del programa de miembros.\n",
        "- Automatizar reportes con este dashboard para su uso continuo por parte de gerencia.\n"
      ]
    }
  ],
  "metadata": {
    "colab": {
      "provenance": []
    },
    "kernelspec": {
      "display_name": "viz",
      "language": "python",
      "name": "python3"
    },
    "language_info": {
      "codemirror_mode": {
        "name": "ipython",
        "version": 3
      },
      "file_extension": ".py",
      "mimetype": "text/x-python",
      "name": "python",
      "nbconvert_exporter": "python",
      "pygments_lexer": "ipython3",
      "version": "3.9.22"
    }
  },
  "nbformat": 4,
  "nbformat_minor": 5
}
